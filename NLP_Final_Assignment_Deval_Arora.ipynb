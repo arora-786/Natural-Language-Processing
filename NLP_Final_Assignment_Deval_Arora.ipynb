{
  "nbformat": 4,
  "nbformat_minor": 0,
  "metadata": {
    "colab": {
      "name": "NLP Final Assignment Deval Arora.ipynb",
      "provenance": [],
      "collapsed_sections": [],
      "authorship_tag": "ABX9TyOsbhZvuZyOb/7gscjn6bQ2"
    },
    "kernelspec": {
      "name": "python3",
      "display_name": "Python 3"
    },
    "language_info": {
      "name": "python"
    }
  },
  "cells": [
    {
      "cell_type": "markdown",
      "metadata": {
        "id": "tmat7gRHXw6Z"
      },
      "source": [
        "<h1>\n",
        "    <center>\n",
        "        Natural Language Processing\n",
        "    </center>\n",
        "</h1>\n",
        "<h1>\n",
        "    <center>\n",
        "        NLP Key Terms<br>Chunking & Chinking \n",
        "    </center>\n",
        "</h1>\n",
        "<br><br><br><br><br><br><br><br><br>\n",
        "<h1>\n",
        "    <center>By<br>\n",
        "        Deval Arora<br>\n",
        " <br>\n",
        "    </center>\n",
        "</h1>\n",
        "<br><br><br><br><br><br><br><br><br><br><br><br><br>\n",
        "<h1>\n",
        "    <center>\n",
        "      \n",
        "</h1>\n",
        "<h1>\n",
        "    <center>\n",
        "      \n",
        "</h1>"
      ]
    },
    {
      "cell_type": "markdown",
      "metadata": {
        "id": "KmOVFUMZbvfl"
      },
      "source": [
        "\n",
        "\n",
        "---\n",
        "\n",
        "\n",
        "\n",
        "---\n",
        "\n",
        "\n",
        "## **Contents**\n",
        "\n",
        "\n",
        "---\n",
        "\n",
        "\n",
        "\n",
        "---\n",
        "\n",
        "\n",
        "\n",
        "* ### NLP Key Terms\n",
        "  * Text\n",
        "  * Document\n",
        "  * Corpus\n",
        "  * Useless Words\n",
        "    * Punctuations\n",
        "    * Stopwords\n",
        "  * Tokenization\n",
        "  * Stemming\n",
        "  * Lemmatization\n",
        "  * Vectorization\n",
        "  * Parts Of Speech (POS) Tagging\n",
        "* ### Chunking\n",
        "* ### Chinking\n",
        "* ### References\n",
        "\n"
      ]
    },
    {
      "cell_type": "markdown",
      "metadata": {
        "id": "64_XQBIvJpn6"
      },
      "source": [
        "\n",
        "\n",
        "---\n",
        "\n",
        "\n",
        "\n",
        "---\n",
        "\n"
      ]
    },
    {
      "cell_type": "markdown",
      "metadata": {
        "id": "Ji-RQ0XGSoY_"
      },
      "source": [
        "**Importing Required Libraries**"
      ]
    },
    {
      "cell_type": "code",
      "metadata": {
        "colab": {
          "base_uri": "https://localhost:8080/"
        },
        "id": "xaEZCcAdSn6v",
        "outputId": "8d7b626d-a484-4fdb-a669-aabbee130176"
      },
      "source": [
        "import numpy as np\n",
        "import pandas as pd\n",
        "import re\n",
        "import string\n",
        "\n",
        "import nltk\n",
        "nltk.download('movie_reviews')\n",
        "from nltk.corpus import movie_reviews\n",
        "nltk.download('punkt')\n",
        "nltk.download('stopwords')\n",
        "nltk.download('wordnet')\n",
        "nltk.download('averaged_perceptron_tagger')\n",
        "\n",
        "from sklearn.feature_extraction.text import CountVectorizer\n",
        "from sklearn.feature_extraction.text import TfidfVectorizer"
      ],
      "execution_count": null,
      "outputs": [
        {
          "output_type": "stream",
          "text": [
            "[nltk_data] Downloading package movie_reviews to /root/nltk_data...\n",
            "[nltk_data]   Unzipping corpora/movie_reviews.zip.\n",
            "[nltk_data] Downloading package punkt to /root/nltk_data...\n",
            "[nltk_data]   Unzipping tokenizers/punkt.zip.\n",
            "[nltk_data] Downloading package stopwords to /root/nltk_data...\n",
            "[nltk_data]   Unzipping corpora/stopwords.zip.\n",
            "[nltk_data] Downloading package wordnet to /root/nltk_data...\n",
            "[nltk_data]   Unzipping corpora/wordnet.zip.\n",
            "[nltk_data] Downloading package averaged_perceptron_tagger to\n",
            "[nltk_data]     /root/nltk_data...\n",
            "[nltk_data]   Unzipping taggers/averaged_perceptron_tagger.zip.\n"
          ],
          "name": "stdout"
        }
      ]
    },
    {
      "cell_type": "markdown",
      "metadata": {
        "id": "QPCTmx43JrQW"
      },
      "source": [
        "## NLP Key Terms (Demo Using Movie Reviews Dataset)\n",
        "\n",
        "### 1. Text\n",
        "A **group of words** or sentences forms the text. Text is the input to the NLP systems. It is a form of data, and it can be processed or un-processed. Depending upon the state of text, appropriate NLP methods are applied to get the text in form in which it can be used by the NLP systems (models).\n",
        "\n",
        "### 2. Document\n",
        "A **group of text** together make up what is called a document. Generally text is available in form of documents to us and we use libraries such as tika, pandas, etc to fetch text from the documents.\n",
        "\n",
        "### 3. Corpus\n",
        "Corpus is a **collection of text and/or documents**. One of the commonly used corpus used to practice NLP is movie reviews corpus.\n"
      ]
    },
    {
      "cell_type": "code",
      "metadata": {
        "colab": {
          "base_uri": "https://localhost:8080/"
        },
        "id": "BYQ0XvQHVkfy",
        "outputId": "8ac7d52e-01fc-4581-aa27-bddc484f190b"
      },
      "source": [
        "files = movie_reviews.fileids()\n",
        "print(f'Total number of files in the movie review corpus: {len(files)}')"
      ],
      "execution_count": null,
      "outputs": [
        {
          "output_type": "stream",
          "text": [
            "Total number of files in the movie review corpus: 2000\n"
          ],
          "name": "stdout"
        }
      ]
    },
    {
      "cell_type": "code",
      "metadata": {
        "id": "JWuKFWoibjai",
        "colab": {
          "base_uri": "https://localhost:8080/",
          "height": 120
        },
        "outputId": "ef94fa6d-94ee-4cdd-c295-88f8d2c906ea"
      },
      "source": [
        "text = ' '.join(movie_reviews.words(files[0]))\n",
        "text"
      ],
      "execution_count": null,
      "outputs": [
        {
          "output_type": "execute_result",
          "data": {
            "application/vnd.google.colaboratory.intrinsic+json": {
              "type": "string"
            },
            "text/plain": [
              "'plot : two teen couples go to a church party , drink and then drive . they get into an accident . one of the guys dies , but his girlfriend continues to see him in her life , and has nightmares . what \\' s the deal ? watch the movie and \" sorta \" find out . . . critique : a mind - fuck movie for the teen generation that touches on a very cool idea , but presents it in a very bad package . which is what makes this review an even harder one to write , since i generally applaud films which attempt to break the mold , mess with your head and such ( lost highway & memento ) , but there are good and bad ways of making all types of films , and these folks just didn \\' t snag this one correctly . they seem to have taken this pretty neat concept , but executed it terribly . so what are the problems with the movie ? well , its main problem is that it \\' s simply too jumbled . it starts off \" normal \" but then downshifts into this \" fantasy \" world in which you , as an audience member , have no idea what \\' s going on . there are dreams , there are characters coming back from the dead , there are others who look like the dead , there are strange apparitions , there are disappearances , there are a looooot of chase scenes , there are tons of weird things that happen , and most of it is simply not explained . now i personally don \\' t mind trying to unravel a film every now and then , but when all it does is give me the same clue over and over again , i get kind of fed up after a while , which is this film \\' s biggest problem . it \\' s obviously got this big secret to hide , but it seems to want to hide it completely until its final five minutes . and do they make things entertaining , thrilling or even engaging , in the meantime ? not really . the sad part is that the arrow and i both dig on flicks like this , so we actually figured most of it out by the half - way point , so all of the strangeness after that did start to make a little bit of sense , but it still didn \\' t the make the film all that more entertaining . i guess the bottom line with movies like this is that you should always make sure that the audience is \" into it \" even before they are given the secret password to enter your world of understanding . i mean , showing melissa sagemiller running away from visions for about 20 minutes throughout the movie is just plain lazy ! ! okay , we get it . . . there are people chasing her and we don \\' t know who they are . do we really need to see it over and over again ? how about giving us different scenes offering further insight into all of the strangeness going down in the movie ? apparently , the studio took this film away from its director and chopped it up themselves , and it shows . there might \\' ve been a pretty decent teen mind - fuck movie in here somewhere , but i guess \" the suits \" decided that turning it into a music video with little edge , would make more sense . the actors are pretty good for the most part , although wes bentley just seemed to be playing the exact same character that he did in american beauty , only in a new neighborhood . but my biggest kudos go out to sagemiller , who holds her own throughout the entire film , and actually has you feeling her character \\' s unraveling . overall , the film doesn \\' t stick because it doesn \\' t entertain , it \\' s confusing , it rarely excites and it feels pretty redundant for most of its runtime , despite a pretty cool ending and explanation to all of the craziness that came before it . oh , and by the way , this is not a horror or teen slasher flick . . . it \\' s just packaged to look that way because someone is apparently assuming that the genre is still hot with the kids . it also wrapped production two years ago and has been sitting on the shelves ever since . whatever . . . skip it ! where \\' s joblo coming from ? a nightmare of elm street 3 ( 7 / 10 ) - blair witch 2 ( 7 / 10 ) - the crow ( 9 / 10 ) - the crow : salvation ( 4 / 10 ) - lost highway ( 10 / 10 ) - memento ( 10 / 10 ) - the others ( 9 / 10 ) - stir of echoes ( 8 / 10 )'"
            ]
          },
          "metadata": {
            "tags": []
          },
          "execution_count": 3
        }
      ]
    },
    {
      "cell_type": "markdown",
      "metadata": {
        "id": "r3dhGfc3XLIu"
      },
      "source": [
        "Selecting subset of text for further demonstration."
      ]
    },
    {
      "cell_type": "code",
      "metadata": {
        "colab": {
          "base_uri": "https://localhost:8080/",
          "height": 35
        },
        "id": "JAij1htSXKQH",
        "outputId": "c566c781-493e-4d27-82e2-ff3f14ea8356"
      },
      "source": [
        "text = text[:100]\n",
        "text"
      ],
      "execution_count": null,
      "outputs": [
        {
          "output_type": "execute_result",
          "data": {
            "application/vnd.google.colaboratory.intrinsic+json": {
              "type": "string"
            },
            "text/plain": [
              "'plot : two teen couples go to a church party , drink and then drive . they get into an accident . on'"
            ]
          },
          "metadata": {
            "tags": []
          },
          "execution_count": 4
        }
      ]
    },
    {
      "cell_type": "markdown",
      "metadata": {
        "id": "nCZ_uNvaYOvN"
      },
      "source": [
        "### 3. Useless Words\n",
        "In the above text we can see that there are many words that will not be helpful in analyzing the text. These are called as useless words. **Punctuations and stopwords, words like a, an, the, etc** are called stopwords, these two together form useless words.<br>\n",
        "Useless words are reqired to be removed from the text."
      ]
    },
    {
      "cell_type": "code",
      "metadata": {
        "colab": {
          "base_uri": "https://localhost:8080/",
          "height": 35
        },
        "id": "30Tx_-buamtf",
        "outputId": "b43b3424-7d11-4226-9863-436bf3db59ed"
      },
      "source": [
        "punctuations = string.punctuation\n",
        "punctuations"
      ],
      "execution_count": null,
      "outputs": [
        {
          "output_type": "execute_result",
          "data": {
            "application/vnd.google.colaboratory.intrinsic+json": {
              "type": "string"
            },
            "text/plain": [
              "'!\"#$%&\\'()*+,-./:;<=>?@[\\\\]^_`{|}~'"
            ]
          },
          "metadata": {
            "tags": []
          },
          "execution_count": 5
        }
      ]
    },
    {
      "cell_type": "code",
      "metadata": {
        "colab": {
          "base_uri": "https://localhost:8080/"
        },
        "id": "MzWzagluawKr",
        "outputId": "a663cfb5-e772-472e-ac2e-f06785f2b8cf"
      },
      "source": [
        "stopwords = nltk.corpus.stopwords.words(\"english\")\n",
        "#  first 10 stopwords\n",
        "stopwords[:10]"
      ],
      "execution_count": null,
      "outputs": [
        {
          "output_type": "execute_result",
          "data": {
            "text/plain": [
              "['i', 'me', 'my', 'myself', 'we', 'our', 'ours', 'ourselves', 'you', \"you're\"]"
            ]
          },
          "metadata": {
            "tags": []
          },
          "execution_count": 6
        }
      ]
    },
    {
      "cell_type": "code",
      "metadata": {
        "colab": {
          "base_uri": "https://localhost:8080/"
        },
        "id": "ik829LDvbAoY",
        "outputId": "6e2ec8cd-dbe3-45e8-af91-e0456ee246dd"
      },
      "source": [
        "uselesswords = list(punctuations) + stopwords\n",
        "# first 15 useless words\n",
        "uselesswords[:15]"
      ],
      "execution_count": null,
      "outputs": [
        {
          "output_type": "execute_result",
          "data": {
            "text/plain": [
              "['!', '\"', '#', '$', '%', '&', \"'\", '(', ')', '*', '+', ',', '-', '.', '/']"
            ]
          },
          "metadata": {
            "tags": []
          },
          "execution_count": 7
        }
      ]
    },
    {
      "cell_type": "code",
      "metadata": {
        "colab": {
          "base_uri": "https://localhost:8080/"
        },
        "id": "_4m6Vc6IbijR",
        "outputId": "e676727d-208f-42b6-92d1-c7d7482f20d6"
      },
      "source": [
        "filtered_text = ' '.join([word for word in text.split() if word not in uselesswords])\n",
        "print('Text before useless words removal')\n",
        "print(text)\n",
        "print('\\nText after useless words removal') \n",
        "print(filtered_text)"
      ],
      "execution_count": null,
      "outputs": [
        {
          "output_type": "stream",
          "text": [
            "Text before useless words removal\n",
            "plot : two teen couples go to a church party , drink and then drive . they get into an accident . on\n",
            "\n",
            "Text after useless words removal\n",
            "plot two teen couples go church party drink drive get accident\n"
          ],
          "name": "stdout"
        }
      ]
    },
    {
      "cell_type": "markdown",
      "metadata": {
        "id": "OvOmlJ70mPWa"
      },
      "source": [
        "### 5. Tokenization\n",
        "Tokenization refers to **splitting up a larger body of text** into smaller words/tokens. Tokens differ from the words in the sense that tokens comprise of words, punctuations and other symbols."
      ]
    },
    {
      "cell_type": "code",
      "metadata": {
        "colab": {
          "base_uri": "https://localhost:8080/"
        },
        "id": "jz_rQfBil5HX",
        "outputId": "7819e6e7-9d01-40d5-9f97-7b16ed46e693"
      },
      "source": [
        "tokens = nltk.word_tokenize(filtered_text)\n",
        "tokens"
      ],
      "execution_count": null,
      "outputs": [
        {
          "output_type": "execute_result",
          "data": {
            "text/plain": [
              "['plot',\n",
              " 'two',\n",
              " 'teen',\n",
              " 'couples',\n",
              " 'go',\n",
              " 'church',\n",
              " 'party',\n",
              " 'drink',\n",
              " 'drive',\n",
              " 'get',\n",
              " 'accident']"
            ]
          },
          "metadata": {
            "tags": []
          },
          "execution_count": 9
        }
      ]
    },
    {
      "cell_type": "markdown",
      "metadata": {
        "id": "Yfir-NLBnVO3"
      },
      "source": [
        "### 6. Stemming\n",
        "Stemming is the process of producing morphological variants of a root/base word. Stemming programs are commonly referred to as stemming algorithms or stemmers."
      ]
    },
    {
      "cell_type": "code",
      "metadata": {
        "colab": {
          "base_uri": "https://localhost:8080/"
        },
        "id": "H8N1Ux0znesr",
        "outputId": "af42e590-0329-42ba-9be2-69c21f94f18c"
      },
      "source": [
        "print('word: stemmed word')\n",
        "for token in tokens:\n",
        "  print(f'{token}: {nltk.stem.PorterStemmer().stem(token)}')"
      ],
      "execution_count": null,
      "outputs": [
        {
          "output_type": "stream",
          "text": [
            "word: stemmed word\n",
            "plot: plot\n",
            "two: two\n",
            "teen: teen\n",
            "couples: coupl\n",
            "go: go\n",
            "church: church\n",
            "party: parti\n",
            "drink: drink\n",
            "drive: drive\n",
            "get: get\n",
            "accident: accid\n"
          ],
          "name": "stdout"
        }
      ]
    },
    {
      "cell_type": "markdown",
      "metadata": {
        "id": "nho5hcspohx2"
      },
      "source": [
        "### 7. Lemmatization\n",
        "Lemmatization is the process of grouping together the different inflected forms of a word so they can be analysed as a single item. Lemmatization is similar to stemming but it brings context to the words. So it links words with similar meaning to one word."
      ]
    },
    {
      "cell_type": "code",
      "metadata": {
        "colab": {
          "base_uri": "https://localhost:8080/"
        },
        "id": "IPf2po_xoBR8",
        "outputId": "1c6610e0-69bb-466d-f897-302152f41691"
      },
      "source": [
        "print('word: lemmatized word')\n",
        "for token in tokens:\n",
        "  print(f'{token}: {nltk.WordNetLemmatizer().lemmatize(token)}')"
      ],
      "execution_count": null,
      "outputs": [
        {
          "output_type": "stream",
          "text": [
            "word: lemmatized word\n",
            "plot: plot\n",
            "two: two\n",
            "teen: teen\n",
            "couples: couple\n",
            "go: go\n",
            "church: church\n",
            "party: party\n",
            "drink: drink\n",
            "drive: drive\n",
            "get: get\n",
            "accident: accident\n"
          ],
          "name": "stdout"
        }
      ]
    },
    {
      "cell_type": "markdown",
      "metadata": {
        "id": "3BLhqDATr1lz"
      },
      "source": [
        "### 8. Vectorization\n",
        "The process of converting words into numbers is called Vectorization. Two methods that we will be demonstrating are as below:\n",
        "* **Count Vectorization:** Provides output an integer that represents the count of word in the document.\n",
        "* **TFIDF:** stands for term frequency–inverse document frequency. The output for this is a float.\n",
        "\n",
        "**Count Vectorizer**"
      ]
    },
    {
      "cell_type": "code",
      "metadata": {
        "id": "AmfkGOsxR82W"
      },
      "source": [
        "text2 = 'plot three adults go temple prayer drive get home'\n",
        "count_vect = CountVectorizer()\n",
        "counts = count_vect.fit_transform([filtered_text, text2])"
      ],
      "execution_count": null,
      "outputs": []
    },
    {
      "cell_type": "code",
      "metadata": {
        "colab": {
          "base_uri": "https://localhost:8080/"
        },
        "id": "AfWV9AZHSiPY",
        "outputId": "dbb1a2c7-f714-4ac6-8916-53ab167588fb"
      },
      "source": [
        "count_vect.get_feature_names()"
      ],
      "execution_count": null,
      "outputs": [
        {
          "output_type": "execute_result",
          "data": {
            "text/plain": [
              "['accident',\n",
              " 'adults',\n",
              " 'church',\n",
              " 'couples',\n",
              " 'drink',\n",
              " 'drive',\n",
              " 'get',\n",
              " 'go',\n",
              " 'home',\n",
              " 'party',\n",
              " 'plot',\n",
              " 'prayer',\n",
              " 'teen',\n",
              " 'temple',\n",
              " 'three',\n",
              " 'two']"
            ]
          },
          "metadata": {
            "tags": []
          },
          "execution_count": 13
        }
      ]
    },
    {
      "cell_type": "code",
      "metadata": {
        "colab": {
          "base_uri": "https://localhost:8080/",
          "height": 106
        },
        "id": "2-uAGX3ySrOy",
        "outputId": "2b4dc17b-0762-45bd-ee11-66a0e6539a38"
      },
      "source": [
        "df = pd.DataFrame(counts.toarray(), columns=count_vect.get_feature_names())\n",
        "df"
      ],
      "execution_count": null,
      "outputs": [
        {
          "output_type": "execute_result",
          "data": {
            "text/html": [
              "<div>\n",
              "<style scoped>\n",
              "    .dataframe tbody tr th:only-of-type {\n",
              "        vertical-align: middle;\n",
              "    }\n",
              "\n",
              "    .dataframe tbody tr th {\n",
              "        vertical-align: top;\n",
              "    }\n",
              "\n",
              "    .dataframe thead th {\n",
              "        text-align: right;\n",
              "    }\n",
              "</style>\n",
              "<table border=\"1\" class=\"dataframe\">\n",
              "  <thead>\n",
              "    <tr style=\"text-align: right;\">\n",
              "      <th></th>\n",
              "      <th>accident</th>\n",
              "      <th>adults</th>\n",
              "      <th>church</th>\n",
              "      <th>couples</th>\n",
              "      <th>drink</th>\n",
              "      <th>drive</th>\n",
              "      <th>get</th>\n",
              "      <th>go</th>\n",
              "      <th>home</th>\n",
              "      <th>party</th>\n",
              "      <th>plot</th>\n",
              "      <th>prayer</th>\n",
              "      <th>teen</th>\n",
              "      <th>temple</th>\n",
              "      <th>three</th>\n",
              "      <th>two</th>\n",
              "    </tr>\n",
              "  </thead>\n",
              "  <tbody>\n",
              "    <tr>\n",
              "      <th>0</th>\n",
              "      <td>1</td>\n",
              "      <td>0</td>\n",
              "      <td>1</td>\n",
              "      <td>1</td>\n",
              "      <td>1</td>\n",
              "      <td>1</td>\n",
              "      <td>1</td>\n",
              "      <td>1</td>\n",
              "      <td>0</td>\n",
              "      <td>1</td>\n",
              "      <td>1</td>\n",
              "      <td>0</td>\n",
              "      <td>1</td>\n",
              "      <td>0</td>\n",
              "      <td>0</td>\n",
              "      <td>1</td>\n",
              "    </tr>\n",
              "    <tr>\n",
              "      <th>1</th>\n",
              "      <td>0</td>\n",
              "      <td>1</td>\n",
              "      <td>0</td>\n",
              "      <td>0</td>\n",
              "      <td>0</td>\n",
              "      <td>1</td>\n",
              "      <td>1</td>\n",
              "      <td>1</td>\n",
              "      <td>1</td>\n",
              "      <td>0</td>\n",
              "      <td>1</td>\n",
              "      <td>1</td>\n",
              "      <td>0</td>\n",
              "      <td>1</td>\n",
              "      <td>1</td>\n",
              "      <td>0</td>\n",
              "    </tr>\n",
              "  </tbody>\n",
              "</table>\n",
              "</div>"
            ],
            "text/plain": [
              "   accident  adults  church  couples  drink  ...  prayer  teen  temple  three  two\n",
              "0         1       0       1        1      1  ...       0     1       0      0    1\n",
              "1         0       1       0        0      0  ...       1     0       1      1    0\n",
              "\n",
              "[2 rows x 16 columns]"
            ]
          },
          "metadata": {
            "tags": []
          },
          "execution_count": 14
        }
      ]
    },
    {
      "cell_type": "markdown",
      "metadata": {
        "id": "_bAUi3U_tJtM"
      },
      "source": [
        "**TF IDF**"
      ]
    },
    {
      "cell_type": "code",
      "metadata": {
        "id": "A3Ex48MatMJ4"
      },
      "source": [
        "tf = TfidfVectorizer()\n",
        "tf_counts = tf.fit_transform([filtered_text, text2])"
      ],
      "execution_count": null,
      "outputs": []
    },
    {
      "cell_type": "code",
      "metadata": {
        "colab": {
          "base_uri": "https://localhost:8080/",
          "height": 106
        },
        "id": "rA7nuceAtn4y",
        "outputId": "dc9074d0-1057-45e9-e5db-551d84b2f394"
      },
      "source": [
        "df = pd.DataFrame(tf_counts.toarray(), columns=tf.get_feature_names())\n",
        "df"
      ],
      "execution_count": null,
      "outputs": [
        {
          "output_type": "execute_result",
          "data": {
            "text/html": [
              "<div>\n",
              "<style scoped>\n",
              "    .dataframe tbody tr th:only-of-type {\n",
              "        vertical-align: middle;\n",
              "    }\n",
              "\n",
              "    .dataframe tbody tr th {\n",
              "        vertical-align: top;\n",
              "    }\n",
              "\n",
              "    .dataframe thead th {\n",
              "        text-align: right;\n",
              "    }\n",
              "</style>\n",
              "<table border=\"1\" class=\"dataframe\">\n",
              "  <thead>\n",
              "    <tr style=\"text-align: right;\">\n",
              "      <th></th>\n",
              "      <th>accident</th>\n",
              "      <th>adults</th>\n",
              "      <th>church</th>\n",
              "      <th>couples</th>\n",
              "      <th>drink</th>\n",
              "      <th>drive</th>\n",
              "      <th>get</th>\n",
              "      <th>go</th>\n",
              "      <th>home</th>\n",
              "      <th>party</th>\n",
              "      <th>plot</th>\n",
              "      <th>prayer</th>\n",
              "      <th>teen</th>\n",
              "      <th>temple</th>\n",
              "      <th>three</th>\n",
              "      <th>two</th>\n",
              "    </tr>\n",
              "  </thead>\n",
              "  <tbody>\n",
              "    <tr>\n",
              "      <th>0</th>\n",
              "      <td>0.332872</td>\n",
              "      <td>0.000000</td>\n",
              "      <td>0.332872</td>\n",
              "      <td>0.332872</td>\n",
              "      <td>0.332872</td>\n",
              "      <td>0.236841</td>\n",
              "      <td>0.236841</td>\n",
              "      <td>0.236841</td>\n",
              "      <td>0.000000</td>\n",
              "      <td>0.332872</td>\n",
              "      <td>0.236841</td>\n",
              "      <td>0.000000</td>\n",
              "      <td>0.332872</td>\n",
              "      <td>0.000000</td>\n",
              "      <td>0.000000</td>\n",
              "      <td>0.332872</td>\n",
              "    </tr>\n",
              "    <tr>\n",
              "      <th>1</th>\n",
              "      <td>0.000000</td>\n",
              "      <td>0.377292</td>\n",
              "      <td>0.000000</td>\n",
              "      <td>0.000000</td>\n",
              "      <td>0.000000</td>\n",
              "      <td>0.268446</td>\n",
              "      <td>0.268446</td>\n",
              "      <td>0.268446</td>\n",
              "      <td>0.377292</td>\n",
              "      <td>0.000000</td>\n",
              "      <td>0.268446</td>\n",
              "      <td>0.377292</td>\n",
              "      <td>0.000000</td>\n",
              "      <td>0.377292</td>\n",
              "      <td>0.377292</td>\n",
              "      <td>0.000000</td>\n",
              "    </tr>\n",
              "  </tbody>\n",
              "</table>\n",
              "</div>"
            ],
            "text/plain": [
              "   accident    adults    church  ...    temple     three       two\n",
              "0  0.332872  0.000000  0.332872  ...  0.000000  0.000000  0.332872\n",
              "1  0.000000  0.377292  0.000000  ...  0.377292  0.377292  0.000000\n",
              "\n",
              "[2 rows x 16 columns]"
            ]
          },
          "metadata": {
            "tags": []
          },
          "execution_count": 16
        }
      ]
    },
    {
      "cell_type": "markdown",
      "metadata": {
        "id": "GSCVT9sUJE-C"
      },
      "source": [
        "### 9. Parts Of Speech (POS) Tagging\n",
        "POS-Tagging is one of the fundamental operation in NLP. It is a process in which **each word is assigned a syntactical category**. These can noun, verb, modal, etc."
      ]
    },
    {
      "cell_type": "code",
      "metadata": {
        "colab": {
          "base_uri": "https://localhost:8080/"
        },
        "id": "3kyzrn1rkwM5",
        "outputId": "897a0cb6-4ef8-436d-98b4-027baf949c4c"
      },
      "source": [
        "sample_text = 'India, officially the Republic of India is a country in South Asia.'\n",
        "wordsList = nltk.word_tokenize(sample_text)\n",
        "wordsList = [word for word in wordsList if word not in string.punctuation]\n",
        "tagged_words = nltk.pos_tag(wordsList)\n",
        "tagged_words"
      ],
      "execution_count": null,
      "outputs": [
        {
          "output_type": "execute_result",
          "data": {
            "text/plain": [
              "[('India', 'NNP'),\n",
              " ('officially', 'RB'),\n",
              " ('the', 'DT'),\n",
              " ('Republic', 'NNP'),\n",
              " ('of', 'IN'),\n",
              " ('India', 'NNP'),\n",
              " ('is', 'VBZ'),\n",
              " ('a', 'DT'),\n",
              " ('country', 'NN'),\n",
              " ('in', 'IN'),\n",
              " ('South', 'NNP'),\n",
              " ('Asia', 'NNP')]"
            ]
          },
          "metadata": {
            "tags": []
          },
          "execution_count": 17
        }
      ]
    },
    {
      "cell_type": "markdown",
      "metadata": {
        "id": "tSAzYlLrpqqa"
      },
      "source": [
        "## Chunking\n",
        "\n",
        "Chunking refers to the process of identifying the constituent parts of a sentence such as a verb, nouns, adjectives, etc. In order to do so POS-Tagging is required as the first step.\n",
        "\n",
        "Flow is as below:<br>\n",
        "**Text** &#8594; **Tokens** &#8594; **POS-Tagging** &#8594; **Chunking**\n",
        "\n",
        "The purpose of chunking is to break the text into groups that are more meaningful and related.\n",
        "\n",
        "Chunking creates word trees with the grammer we define for creating chunks.\n",
        "\n",
        "Steps For Chunking:\n",
        "* Prepare the **pos-tagged text**\n",
        "* **Define a rule** based on which you want to chunk\n",
        "* **Initialize a parser** by passing in the defined rule\n",
        "* **Parse the tagged words** using parser\n",
        "* **Visualize** the chunks\n",
        "\n",
        "In the example below we have defined a rule that enables the parser to look for nouns followed by prepositions followed by nouns. The tagged words are prepared above."
      ]
    },
    {
      "cell_type": "code",
      "metadata": {
        "colab": {
          "base_uri": "https://localhost:8080/"
        },
        "id": "Sm7pcvTbGXli",
        "outputId": "1019edf1-3499-4b0e-d7d8-9dbc8f06d171"
      },
      "source": [
        "rule = \"NP: {<NN.?>*<IN>*<NN.?>*}\"\n",
        "parser = nltk.RegexpParser(rule)\n",
        "result = parser.parse(tagged_words)\n",
        "print(\"Chunk Tree : \\n{}\".format(result))\n",
        "# result.draw()"
      ],
      "execution_count": null,
      "outputs": [
        {
          "output_type": "stream",
          "text": [
            "Chunk Tree : \n",
            "(S\n",
            "  (NP India/NNP)\n",
            "  officially/RB\n",
            "  the/DT\n",
            "  (NP Republic/NNP of/IN India/NNP)\n",
            "  is/VBZ\n",
            "  a/DT\n",
            "  (NP country/NN in/IN South/NNP Asia/NNP))\n"
          ],
          "name": "stdout"
        }
      ]
    },
    {
      "cell_type": "markdown",
      "metadata": {
        "id": "h8A-7Of5YzHY"
      },
      "source": [
        "![chunking.PNG](data:image/png;base64,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)"
      ]
    },
    {
      "cell_type": "markdown",
      "metadata": {
        "id": "SYd8k0jdcpAm"
      },
      "source": [
        "## Chinking\n",
        "\n",
        "* Chinking is similar to chunking. The difference between chunking and chinking is that in chunking we specify what we are looking for, whereas in chinking we specify what we do not want as chunks.\n",
        "\n",
        "* Chinking is done after chunking. Chinking helps in refining the chunks produced by chunking process.\n",
        "\n",
        "* `{}` is used to indicate/extract a chunk and `}{` is used to indicate/extract a chink. "
      ]
    },
    {
      "cell_type": "code",
      "metadata": {
        "colab": {
          "base_uri": "https://localhost:8080/"
        },
        "id": "FvKskhUCf_ZV",
        "outputId": "c9e37929-dcc9-416c-edee-2e9cd9799d15"
      },
      "source": [
        "rule2 = \"\"\"NP: {<.*>+} \n",
        "          }<VB.? | DT>+{\"\"\"\n",
        "parser2 = nltk.RegexpParser(rule2)\n",
        "result2 = parser2.parse(tagged_words)\n",
        "print(\"Chunk Tree : \\n{}\".format(result2))\n",
        "# result2.draw()"
      ],
      "execution_count": null,
      "outputs": [
        {
          "output_type": "stream",
          "text": [
            "Chunk Tree : \n",
            "(S\n",
            "  (NP India/NNP officially/RB)\n",
            "  the/DT\n",
            "  (NP Republic/NNP of/IN India/NNP)\n",
            "  is/VBZ\n",
            "  a/DT\n",
            "  (NP country/NN in/IN South/NNP Asia/NNP))\n"
          ],
          "name": "stdout"
        }
      ]
    },
    {
      "cell_type": "markdown",
      "metadata": {
        "id": "hRSWs1tBiJC5"
      },
      "source": [
        "![chinking.PNG](data:image/png;base64,iVBORw0KGgoAAAANSUhEUgAABJIAAADoCAYAAAC0G86rAAAAAXNSR0IArs4c6QAAAARnQU1BAACxjwv8YQUAAAAJcEhZcwAAEnQAABJ0Ad5mH3gAAIj0SURBVHhe7d0FeB3XnT7+dOHf7nZ3u1Ta5rdb2FK2zE3SJLaTGBJDnMQMMjMzSwZJliwLLAstsMiymMFiZmZmxm652fT9nzPSla/kkSzZkizJ7/s8nyfxvWfgzp078NXMmRfq6upQVVWFsrIylJaWori4GIWFhSgoKEB+fj7y8vKQm5uLnJwcZGdnK7KyskiLg4MDysvLVd+b6aKiovDKK6/gpZdeeipyHHJcatMYzbOc9kyXnJwMR0dHWFlZKeT/y9fU2o7HbF5Hn6XohBS8fvA2vr/NVNV5a1/V4Wh24e/jyQQHB6u+/jziOjR+u3btIiIiohls9+7dQ/bs2aPYu3cv9u3bhwMHDuDQoUN4ISMjQ3mBntyaNWtw+PDhoX8fPHhQod1mptq+fTt++MMfYsmSJarvj4ccVo5Djkvt/dE8y2nPVB9++CF++tOfqhbMJPmebKPd/o033lB+5NrjGWk2r6PP0o5de/Cjtz7Ed+a9r+qdVZtVh6PZZTJ+HytXrsR3v/td1d/tRPzyl7987O95ptiyZYvq688jbmPHb8GCBcqyIiIiotmpsbERL9ja2mLDhg1gGIZhGIZhGIZhGIZhGLXIQlJNTQ1ekLesyasaGIZhGIZhGIZhGIZhGEYtspBUWVmJF2Q/SPJ+N4ZhGIZhGIZhGIZhGIZRiywkyf61lSuS5D3rDMMwDMMwDMMwDMMwDKMWWUiSD2hTrkhiIYlhGIZhGIZhGIZhGIYZLbKQJJ/y/0JoaCh27tw5+DLDMAzDMAzDMAzDMAzDDI8sJMmLkV5wdXXlU9sYhmEYhmEYhmEYhmGYUSMLSXl5eXghODgYq1evHnyZYRiGYRiGYRiGYRiGYYZHFpJkP9sv+Pr6YsWKFYMvT26ysrJw5coVrN2wEecv6aG//9eD7zAMwzAMwzAMwzAMwzCzJbKQlJ2djReMjY2xbNmywZefPh999BE6Ojrg4OCAQ4cP4uhlM5wwcsZmnS3o6ekZbMUwDMMwDMMwDMMwDMPMlshCkrxg6IXExESsWrVq8OWnT3NzM1zd7+GajTeOGt7BQctY7DAKx7p169Dd3T3YimEYhmEYhmEYhmEYhpktkYWkjIwMvJCQkDBphaS2tjYEh0fhlL41bOM7oB9QBx3rCiw+FYStW7eivb0dH3/88WBrhmEYhmEYhmEYhmEYZjZEFpLS09Mnr5D0l7/8BbK/pcPnr+NO6v/C/EErlp4NxCuHQ7HkhDd27NiBmpoa/OlPfxocgmEYhmEYhmEYhmEYhpkNkYWktLS0ySskyQKRvb0dNuw+rhSRfr7mEl49GoYFh+9jyYZj2L17t3Jrmyw4jSdhO1/ACy+8DLOqwRe0UmX2Ml7YGTb4r8G2Wv+WGRh+FINtR45HSdhOpc3LahNmGIZhGIZhGIZhGOaZ5ZHz+8eYzZHzLzu3flyUDrCn4bNOeiHJz88P1yxdcd0rGzdDa/CFr/8YP97ugte3mUNnxz6kpKTgj3/842Drx2eoEPSyGUaWdMZTSNLOaO8/UkiqMsPLYppjjIphGIZhGIZhGIZhmGeUiRRMZnshSVMgGquYNJ42k5VJKyTJPo/6+vpw5sxpHDVwwLX7uViicxrfXHgIrxx7gLd2muHs2bP4/e9/P+6rkWRk8edlMzPsFAtk5NVBIwtAk1NIClOdFsMwDMMwDMMwDMMwMyPPUyFJZqxC0VjvTUUmrZAkrzJKSkrCkbNXcMrCDweNvfDJf/ocXjuTggXnkvDOTgMYGhoOth5/BgpJVfJ/xILZCe0y0PAC0GQUkqpg9jKLSAzDMAzDMAzDMAwzk/O8FZJk1ApGaq9NdYYVkj788MPBlyee/v5+XLx4Eaa+2bgd04Ydek74x/94Ca+fTcOvNhti6eptMDMzG2w9/gwVkgb/X7sQ9LAANJCnLSQ9bniGYRiGYRiGYRiGYZ59nsdCkox24Uj7/6czQ4Uk+ei2ffv2Db488fT29iodaRu6J2PVQX3854/fVYpIC66W4eXle2FmcQu//vWvB1uPP9qFJCh9Fz3seFtTANLkqQpJYuGP1qk3wzAMwzAMwzAMw8yGDJzbjt9szUTmfTZ/TrVoCkjSdBeRZCa1kLRr1y6lkLRs2xl89tvz8eaVIryy5RbWbDuCoKCgwZYTy7BCkohS9BnseHtSC0nideW/I26fYxiGYRiGYRiGYRhmZoWFpGdXSFqwYAE2b948OYWkPXv2wDsyA7uOXhgoJOnm4JdLdGBpcwc1NTWDLSeWkYUk8cpQZ9iTXUiSUdqwmMQwDMMwDMMwDMMwMzbPayFJU0SS/9X+/+mMrB1FR0c/fSGpp6cHW7duhed9L+zavRv//J8/wMvbbLBlxz7k5+cPtpp4Hi0kiQx2vG02BYUk8S+lw23NVU8MwzAMwzAMwzAMw8ysPI+FJLXC0bMoJk1qIWnDhg14f/Ua/M/3vo9Pferv8D3xXzly2RH3k0a1kCQycOXQ8MLQ5BSSZAauehprXAzDMAzDMAzDMAzDPJs8b4WksQpG011MmrRC0p/+9CdkZGQo98n9x3/8B77+9a8rj/uXBaaPP/54sNXEM1ohCUrH2yqFJPmaNq0ri8ZfSBLRjF8MzzAMwzAMwzAMwzDMzIk83x9vJtJ2JmY8haLpLCZNWiHpL3/5C37zm99Ajmf9+vWYP38+6urq8NFHHw22YBiGYRiGYRiGYRiGefooF45MwGyOnP/xFIg0xaSpzlAhyc7ODmvWrBl8+cnzhz/8AWfPnsXSpUsHX2EYhmEYhmEYhmEYhmHmQmTtyNzc/OmvSNLk//7v/2BlZYXDhw8PvsIwDMMwDMMwDMMwDMPMhUz6FUkyhYWFSEhIGPwXwzAMwzAMwzAMwzAMMxcydEVSWFgYtm3bNvgywzAMwzAMwzAMwzAMwwyPrB15eXmxkMQwDMMwDMMwDMMwDMOMHRaSGIZhGIZhGIZhGIZhmHGFhSSGYRiGYRiGYRiGYRhmXGEhiWEYhmEYhmEYhmEYhhlXWEhiGIZhGIZhGIZhGIZhxhUWkhiGYRiGYRiGYRiGYZhxZaiQJIIvfvGLgy8zDMMwDMMwDMMwDMMwzPCMuCJp2eDLDMMwDMMwDMMwDMMwDDM8vLWNYRiGYRiGYRiGYRiGGVdYSGIYhmGY5zC/+93v0NraSkREREQ0bnl5eQ8LSQN9JL00eHjJMAzDMAzDMAzDMAzDMA/T0tIy/IqktQtYSGIYhmEYhmEYhmEYhmEezSOFJHa2zTAMwzAMwzAMwzAMw6jl0ULSsp8PvsUwDMMwDMMwDMMwDMMwDzOskDTQRxILSQzDMAzDMAzDMAzDMMyjUbm1bTxPbevDb3ti4bBhNXTeeQfvDFr+4Toc8ihFSWk8ImzMoX/WERHtf8YfPs5HsK4J7to+QHrP4CimMH9oK0aJ+yGs/WDZ0LwNc9EDHpmtg60ZhmEYhmEYhmEYhmGY8eQJC0kd6GvxwIkvfgfvLduOHaf1oKenh6vXb8A+oQmNjUXIDQ+Gl0sUcvr+iD9/HINb727CuYMOCJyG+s2fexvQEG8HY8OrynwpTu7FsZU/wT986ieYr+sN/8ppqGgxDMMwDMMwDMMwDMPMoTxFIek+TnzxLVyxS0bamDWZPwrTW0h6NL9Ff1kYok8ux/dfuwn71HrweiSGYRiGYRiGYRiGYZiJZYoKSX/CH37dj/7Ofvz2oz/iL48Ukv4CfPRb8X47Wpua0NTUhpbWfvzu/z7Gx8rwk5uP/1SETO9z2PRf38Nxv06Udw++8ZeP8PEff40usRBalPloQltHN/r/KIYRs6jk4z/hj7/tRYd4r3mwTUfPr/GbP8s3ZaM/4jddPfh1Ty/6f/2wXdev/4Df/e63+G1vmzKM1N77W/zuT1PxCRmGYRiGYRiGYRiGYaY+U1RIykek0RVc+uAyXBv/iN/934hC0v/9Fmhwhe7K1/DDz38en//8j/Gt71+Gb8f/QlPjmcz0Zjnjjv5WfO2gP6o7/4CPNLWc39WjK90Y67/9NXxDmY/P4yfvbMaVZOB//zTYpjcLac6H8ZZ478XBNm/vvwmnAvnmH4RE2K/dB4P9x6B3faDdl4S1JjHw9nKB8+FXlGGkV4+7wzO3Tw7IMAzDMAzDMAzDMAwz6zKskGRnZ4c1a9YMvjVWZCHJHSe++BW88t1f4uW3lmDJkiV4b/UGGMf2oK4/G0GXTuHoghOwq/sjfvuRdiGpD7/tisWd9zbioq4NrO6HItTdAT76x7DDuwL57bI4M4npSUOQGPeuVYdxMqEbvx66IqgFNcm2uLHwl9h07j7sPcR8eJrg1rm9WLnoMjxK/xftf6xEmsNp6H7wIbYZhMI3ULRxvYDzu/Zj137Zkfgf8MePo2Gx+A0s/MF7WHnGHr7+9xGqvxKL31mMN7edh669P0IHX3t9/kkcsU5B9eAcMAzDMAzDMAzDMAzDzKbIQpKsHZmbm+OF9PR07Nu3b/CtsfKws+2Vy7dj55nLuHz5MgxvmMK/6Dfo+O0YhaT6JnQXW2Lz576Fxe/oYMvxC7hwdCeObpiPr596gOjyybpiRxaMelHqfQoXd+/BjvP+kBcD/VlTR/p9PjLcdLHqC0twPb0Hdb+TrzWhJMQCZ978Kc5GdaGiMQbux/di21vHcacO+N3/iTa/KccD08M4s3Ubruf+Ab/9sywkLcbqRSdwIaACfR/9Lz6utcXB11/D0k3XcTvnN4B4DcprW3DgrBfixD8ZhmEYhmEYhmEYhmFmW2QhSdaOoqOjJ1pIGuvWtjEKSVU16Ey+gnc/+xJ++Yt5eHPFCqyQVm/ECtMEZNf3D47j6fKXj36P39UFwGTPe9h10hi2mb2D7wymJxWJ1pex8MVT8G7/NToHX27P84fvoRdxwL8dRfn+sNt3FjorrBAr3pPdhstUBl6Aw6UVOBX7B/zvn2QhaSPOHXZEkNL/k7yiavC1I05jvMYwDMMwDMMwDMMwDDO7Mv2FpOpadKWbYMVndWDolYXiKel8+v/w5183otBoCRatu4Qz93LFHI9IXzqS7C5jyZf2w7WhH21yNj7+E5ozvOCy4xs4HtqBktJg3DlwEluW3kTYH4E/yr61/+/3KLx/HlZn1+BS6h/wGxaSGIZhGIZhGIZhGIZ5TjL9haSWdvQ23MWRL3wB7+5zgkv2VHQ+3Ym+Zj+c/+pbuHg7Fgltf370aXAflyPP7yK2ffZr2O/dgRLZy3dvJpLt9bH8a4fg0fRrtH+UAf9zG7DzlQ9xQdMBd1sYnI6cxY4PzBDx5z/gj39hIYlhGIZhGIZhGIZhmOcjwwpJoaGhk/TUtrE62/4T/vy7GpTfO4Zd7yzBG79YgEWLFmHR8lVYZBSLjLqnv7WtryYeEXrfx3f+8d/w9e/8HL9YIMYvp6Fx3h3uGVX434ZEJFtsw8pfvYOF88XrC5Zi1YazuOJZgfrff4Q/oR8dOfdw7/xGvP0z8f7bwrxl0DlkCfvoBvTgD/hYUyBiIYlhGIZhGIZhGIZhmDkeWUhasGABNm/ePJErkn6LP/6mFDFmHkjKbULz7wdfHkorKhNiEeUeg7y+j/Dnj+uQdT8IcZH5qPyNePvjPwF9uYh2s4XF1au4KhndxNXAYlR1yF6vny6/ba9AYcBV3Lg+OO6R7iUhqaoX+HMvfteYCM+bxrihvGcBO/dY5PVrd8rdhIacEDiI9w2UNjbwfFAw8DnwkVCHzHuBiFd7LWqs1xiGYRiGYRiGYRiGYWZXZCHp8OHDSEtLm0ghiWEYhmEYhmEYhmEYhnnewkISwzAMwzAMwzAMwzAMM66wkMQwDMMwDMMwDMMwDMOMKywkMQzDMAzDMAzDMAzDMOOKaiHpT3/6E/74xz8SERERERERERENqaure7SQ9Jvf/Aa//vWviYiIiIiIiIiIhlRUVDxaSPrf//1f9Pf3ExERERERERHRLCULP5Nd4ykvL2chiYiIiIiIiIhorvntb3+Ljz/+WCkoqb3/JFhIIiIiIiIiIiKag2Qh6S9/+cuk1nlYSCIiIiIiIiIimoNYSCIiIiIiIiIionFhIYmIiIiIiIiIiMaFhSQiIiIiIiIiIhoXFpKIiIjo+dLdhf7qUtyxvY8NZxzxxiFHLDztgV2O6Yiva0er2jBEREREpGAhiYiIiJ4j7WioKoSrvhveWm+Af31bFy+8oYu/ffsavrjJHu+55iG0vF1lOCIiIiKSxltIqqiogJeXF9rbH39sxUISERERzUzddShIi8D783XxL4tN8e3djlhy+i4W7r6NL8/TxSe3BkPvQTUa1YYlIiIionEVkmRhyNXVFXv27EFYWBgaGhpU22mwkEREREQzU0sVsiP88fP5uvj0ai8cCShFfmMjiuOTcXytGX601hung8uQrTYsERERET22kNQojq2cnJygo6MzJDw8HK2trartJRaSiIiIaGbSLiQtsMCvjBNhlt+Ckp4etLV0oLGlC23dvehRG5aIiIiIHltIsrCwwI4dO4YVknbu3AkfHx/V9hILSURERDQz9bSgLCcZR9fq4gtvXcVn3jfHf++ww+vHXLFTPwo+WS2oalcZjoiIiIgUoxWS5BVHZmZmSg1IFo90dXURHx8/9O9jx47B3d192DAaLCQRERHRDNWDtqYaxPsF48jRW/j6sqsDnW0vuIovLrfAm2djYZNSjwrVYYmIiIhotEKSvKXt0KFDStHIwMAACQkJ6OzsREhICE6dOqW8bmxsPGwYDVlIWrBgATZv3sxCEhEREc00vUIzskNjcMnEG0uPO+H1bWb4yju6+OSC21jlmIPwFrXhiIiIiOhxhaTLly8rVyJpv+fn54fTp0+PWUiStaPo6GgWkoiIiGjm6O3qQmtjE3LL6pFb24G6zl401tQg1j8Y+3bq4nOLdPFLw0TY5qkPT0RERPS8G62Q1NzcDD09PWRlZQ17XSMoKAi2traq77GQRERERDNSU0EuvMyt8Jl3DPBPZ+Ogl9KI6r521Jdl4t4lXXx1KQtJRERERGMZrZDU19eH9vZ29PT0DHtdo7u7W7nVTe09WUh6a+ES7Nx7BC/o6+tjxYoVLCQRERHRM9dTX4ZEn3v49jxdfGqpGb681Ra/PGCPl3ffwnfe08XfvWmDdc55iGpTH56IiIjoeTdaIelpDOtsWz7iTXaYxEISERERPXNdragrzoa9hTMWbzbAZxfqKp1tv7DgKl5YaYWXrybBLrMJNWrDEhEREdHUF5JKSkqUf7CQRERERDNCTwf6a3Pg7uKH/dc8sPK8oOeDlRYJsM1rRXGHyjBEREREpGAhiYiIiIiIiIiIxoWFJCIiIiIiIiIiGhcWkoiIiIiIiIiIaFxkIemjjz5CZWUlSktLn1ptbS0LSURERPTsGLi6Yr+p6ZSLyshQnT4RERHRXCYLSX/+859RWFiInJycpyaLSCwkERER0ZA8cWBwJyho2nx5zRq88MYbwyw4cgQfXLyIH+/YMez1H4l/y9dHGtlOzcarV1WnPxV84+JUly0RERHRdGMhiYiI6DlUVFWFLLGPng4X7O1VCzHj8U9LluDr69c/sf9ctUoZz92wMGVejNzdh73vEBysunycQ0OHtRvpk2+99ci8Po3/9+GHqtPRePv48UeW61RqbGlRXS5ERERELCQRERE9h17dvx+fXrRoWjxN0WXt5ctoaW9/YpHp6firefPwdwsXKvOyxcBg2PtdPT2qy6dbvK7dbqTvbd2qOr9PKjw1VXU6GpHioGrkcp1KVn5+qsuFiIiIiIUkIiKiGcA7Nhav7Ns3bewDAxGakjIqSx8f/PX8+apFj/EyvX9fddwTkV1aqrq8xiKLRZrPufL8eYQkJz/V+NQkiIMe7fnUdsDMTHV5aJNttId5/8KFYd/PSN/ftm3Y8ItPnBg2/GTbZ2qqOh9TQX5fasuYiIiIZiYWkoiIiEZx3c0N+27enBYnrKxwzcVlUvxiz55hRQc1sh8gtfnQOGxhgWt376qOf7wq6upUl+tkk7etac+7rqPj0DzYBQair69PdbipklJQMGw5qJHft/Y8f3bFiqHv5kvvv686jLZzdnbDhn8sU1OU1tSozq8a/4QE1elOBfl9qc7zFInJylL9zERERDQ+LCQREdGsUVBRoVxJM112GBnhw0uXpoWZlxcaWlpwJzhYdV4m4qilpeo0JuLorVvo7e1V/R6eNdl5t/bnPSLmVXve88V6ojbcTHLLx2fYPGvbdv36sM83Um5ZGYISE1WHHc0qweTePdXxjWa6Ci7y+1Sb56kiC1dqn3cqsJN0IiKai1hIIiKipyI7bc4sLp4WNz09VTsiniqJubmqn3k0ja2tqvM9XvKk89ubNqnOy0TYBwWpzt9s1dHVpXQArVlOIzvMdgwJUR1utkoXB2Xan28keaWc9nozklxWcplpj1NelbX0zBnV8Y1mj4mJ6vhHozbdmeiYpaXq550KS06eVF1WU0Vug9Q+MxER0WSa8kKSmZkZPvjgAxaSiIjmqDcOHcLfL1o0LdZfuYLW9vZpM9ErcuRtVGrzPV4/2r5duSpJbV4mQnYUrTZ/s1Vyfj7+YfHioeWko68/pz+vXO+0P99IWw0Nh603I8nOspPy8h4Zb3tnp+r4RiOvYFIb/2jkdyS/q5HTnWk6u7pUP+9UCEtJUV1WU0Vug9Q+MxER0WSapiuSdrGQREQ0Tfzj4/Hyvn3TxjYgQDlZmg7yige1zzwZ5O1Eap9vIuQVHGrzPV7xYkc63f35zGSyjya5XGWH2bIDaM1yypmkDrNnK/n5tdebkeSyksts5PqpcVUsV7XxjlReV6c6/tE8brpq5HesNu25oqmtTXVZTRW5DVJbzlNhu9hmqn1mIiKa+6aqkPTt93bj67qhg4WkXZtYSCKi55qxhwf23rw5LY7fvg19F5dpU1Zbq/qZp5Ps1Pmgubnq8hgv2W+K2uebCD/2h/JUojMzh30nskNpuVyfRYfZs53sn2fk+qkhl6v2clYTlZGhOt6xyO9Ifldq0xzNeOZF235T0xmxzZmp5DZIbTlPBbnNVPuOpkpcdrbqZyYiouk3LYWk/VvXspBERDNKYWWlcsIzXXYZGyud3U4HE09P1c88U8mTA7VlNhGy76Q1enqqy2O8nverXJ6F+uZmpeCh+R4vOTgM+04CExNVh6OnIzvq1l7OauR3of0b0+YTG6s63ichv2O16Y9mta6ucsud2nyNhk9pmxpym6n2HU0VPScn1e93KvjFx6t+ZiIiGjANhaRMbF3LPpKI6PGKKiuRUVQ0LeQTsr65ceO0mYt/SZX9jMjOXdWW70QcMDNTXWYTITu0lfOjNp80s8gn72m+e6+YGKVzcc33eNLKSnUYmn6nrK2H/ca0LT5xYthveCTZz5faOCeD7D9q6enTqvM1Gnk1i9p8jkps12ZDp+HPm8MWFqrf71RYduaM+roxRdhJOhHNNlNeSMoMvsPOtoloXBYcOYJPvf32tJB/1ZYdz06XmfoY9achi0j/8u67qst3IgxcXVWX2UTwpG/2+OXevUPf/Y927EBLe/vQ99jV3a06DE0/+V1o/8a0RaanD/sNj2Tl56c6zskif+9q8zUaeWux2nyORnYanlJQoDptenbGWicnW1BSkuq6MVXm2pMniWjum/JCkpnZHazlFUlEs5K8/eEXe/ZMG2t/f0SkpU2L7CnstHm2kI+aV/sexks+SjxYHGyrLd+JKGd/J3Oa7NhZe71xCA4e+u4Tc3PRpzIMzWzNbW3DfsMjySuAtL/zkWRHzbllZarjngqyDzW1+RyN7LR6xdmzqvM+mmsuLqrTptmpqbVVdd2YKjuNjFTXq6mw09hY9TMTEU3E1F+RVBKLTbwiiWjS3Lh3D7tv3JgWxywtYejmNm1Ka2pUPzM96rpYXmrf2UTITrnVvofxkk9rm2uPXaenJztp1l7PZGfK2utNZX296nA0dwQmJAz7zh/h6qp0jq+9nmhzDg1VHe906e3rg31QkPq8j0Ku52qfZTT7TE1ZRKch8g87auvVVJCdpKutk1MlQZwgqn1mIprdpqWz7cOHD7OQRHNWUVUVbPz9p418tK/sVHg63PDwUP3M9ORk/zBq3+tEyYMzte9sIkzv31edR6KJqGtuVoqKmnVTdtKsvZ6xw2waSRZqTlhZDVtPtB21tBy2vdMm1zW5zqmN91mSxTO1zzKadZcvK38YUvuMo2Gn4TQZ5G3pauvkVLns5KS6Pk8Ff3aSTjRtWEgiGkF2+JwufhDjdcvHB9/atGnaPMkjmWl6ySfCqa0rkizeqH2vExUvNrhq0yaaTvUtLUqH2S9t3jy0brLDbHpasr8Y7e2dNrmuyXVOs03Nr6hQHcdM19XTg3dPn1b9jKPZb2o6bH+iIf9AoTYNopngoJmZ6vo8Fd47f171NzIWdnRO9GRYSCIa4e1jx/DJt94at5Vip6XWUeNUkX/JVZtvmjnmHTqkuq5Ik9XJN9cDmglkp8o/2r4drR0dQ+umPEFWa0s0Xj29vcO2d9rkuibXOc02VXberjaO2UA+aVLtM45G3tKsvT/ReHX/ftXxE80E09lJul98vOpvZCx3w8JU55uIxsZCEtEI8q8TkWlp45bFTptphNSCAtV1RcouLVUdhmg2qqqvR1JeHjvMpmkj1zW5zmm2qSn5+art5qLyurph+5OhZcAnzBEp5NVFar+RsdQ0NqqOi4jGxkISET0X5F+4a1sb0NXDx4sTERERERE9KRaSaA7rQG1VBcL8U2EnBOa1oKxV8568LagTxRn58A/NhU9yLSr7e9Hb34yMhFx4ivbWj8iEa2wFEmr70d2nPR2a2TrR2FyEhNxQ2OQXoaK9Q7zWgpqGbERlRSKqoQdNPWrDPS053UIk5PjDNs0f1qnaAoUHiGloQt3gtHt72tFcE4P72UEj2g7nIOY5csrmmZ5fvUITUmOy4SG2d+7xpUiuG7j6Y+D9bjRUVSM+MgM2/iXIaOxES387qsrKEfLItlJKF3IRXNiBynbt6dDzpVusQ1VIyU1AUnUVKrrV2jxOO8qrkhFSkACvqtGe+NeH1voUhBRlILy6BFVthXggt5cjtp8DEhFbX48GOVxfB/o6ChCREwon1bb+cMpLxYP6dpVpPiu96OtrQX5xJLwy1OY5DD4lhSjsejhMe1MekorCVNoO5ysO4Av5e6VZrQc93Q1IjBDH7GJfdC+pEukN2u93o7a8AtHiffvgMuS0daOtvw1lhaUIfGQ/NrAvsw3KR1hJF2o7tMdDRCwk0RxWg4TwYHwwTxeffEMXL19Ph2N2J9qV9+RJUx1cDW3xxorb+MXZeIT0d6GrPw8Ghy3xXdH+hUdcx39s9cZWv0YUt/ahi8WkWaIBWfkuOGe3Gi9H5CChURaSChGTYQqdGxugk96G7Da14Z6WmG6eM47fehufM9mIr1lswrdvDbLQwbdNdmJzbATu1zShXpxcdXfUoCTlEt532jHYZi3+++YyfFrvbfz7jTX4yuDwP3M4iRN5nSjiAQ1NKvm7yMGlXWb4ltje/edOD+wLakWj2M71KO+3IC3yAQ6uN8BfzbsH/cwGFPVXIcLHH8vENvYTj2wvr+CFeWZ43TQPrrkdaGHh8znVir6+RJi5G+JGUiJinmhbW4uomCtY53QCPwyKQbN4rXfY+7Kw0oyU6JNY6X4DW+IDEVXuhM268/BfxmvxZXOtbe+tzfjy9SPYJra9IW3t6OppQG+9F466HMDL4r2H7YSby/HP1xbhRfur2JtVpzW9Z60Tvb2FsHVbj1+ZvY8vmWnNs2S6DQvvW8KguALlnQN/+Kot9oCx/8GHbcxX4rP6i/EZgxX4ktbyWR/1AD51atMkmi3a0N6ajuPrjPEVsS/6+kE/nIxoQ4t4b2C70Yx4v2BsX2uEv3/HB7fKWlHRXw4/p/tYKPZlw/dj0lX87UIrvGVdAr/iLrRyX0Y0hIUkmsOGF5L+aoEjNjjlIUl570kKSeJkaZ4h/n21C3SzO1HME/lZ4tkWknTvbMDmtCakNXeho2dQWyU6sq7iFcv38UsfN1hVyPZ94mSoW5zYaNrkio2qOV69ug2HUzIQ3TLwemdPt3JiwD5paHINLyR9Yr4Zvro9HF49fWhU3p9oIUnSE9tdC6y0y0Jg/cjp0fOjFz29Pejpk1f9qr3/OH3orfCCsY84KbS1hZ94rWnY+y3o7Y3EBas10PHzhl1lOfLLnaCj9yY2RWcjpH5wmyq0d3cgOGQrFjicx9roBJTK4cV8dYvtaqdm2yuJdh35Flh7Zz9+fu8O7jTMpIcbPCwkHQjzhm2F1nxLZZ4w9NmJL97aj925/UoxqU98xp7e7oefrdYTp11OYtU9e9jVPRy2q1d8R/wjGc1qwwtJn5h/C98/Eo1A8V6b8v5EC0nSZfzVm5bY4F6IyMaR0yN6frGQRHPY8ELSC28Y4KVzEbiW0ibee0whaZkNfnIxCq7pZYgQHqRnw8HOBWu26OHvlpljgUsVkmrY187MV4+kDFscvbMaL+q/hX800cF3/HzhUBY3UEi6vhI6UV7QcT2Lxba78TPbI3jbzUI5sK4e+qtTB5pbMuHqcxArHGQbwUkPy0MeILenB52PTFNjoJCk57ABWzPakaNdrOoT6057OYKjTuN9j+tYF5OGSvH6sOJQZyGK8izx2tXtOJaWg0TebkBTanghSV5R9JkPbbHcrwG5jfIpbGMUkt42xCfW+uBCQC78le1lAQIionDtmB5efOcqXhLb0uvKdldtujS3taGvLwVWXjdxKzUF8WI71tlWgeJUPXzgcmBge2p7FO/et4WzOEFrGO2v/V2p8I7Rx/sWR3G0uB/lWrdt9XdWoafoBl43O4Vd8XGI7apAwWAhSSc2f/iJX18vmrKvY5XDJbwTGIx4zevaehrR2+CHc85b8LqLhdj+FqBmSq5CEMchLVGwDr2K5cpyeGh7bDQCRi2+PiwkHQr3g0PViPe76pGbdxe6XgfwJdcghDa2oFX7fTndBm+ccz2FNZ6OcOKJMc0pwwtJ8oqiz250xrqQJlS2yWP/MQpJC2/g73X8YRRZgEBlX5YPn8AwnD+oi39deBU/0E+CVeZMus2V6NliIYnmsJGFJF38w4f2WGKWhqjGXnT3jVFIWumEN82yUSjGM/AX1CZkhfjg6D4xrndv4EdWZYit7BoxPZp52lBWGQm74NNYaLoUX3E2x6GUdCQ2pimFpDVX38V3rK9jR5gTLse743yQATbY6+CVoCiENDQr981X1cTBI/IKNnrfxsWouzAS7a5EWOGozzWsfRCD6CbZTm3aYxSSBrWUOeKk5yUs93JDoHh/4BaiQSwk0bQaWUjSxd8svI7P7w6GRVoTyjrHKCQtNMYntkTCpaB58OqlDjRVZcNHTw//vVQXXz4ZjosxLVrToudHM3r7InD+9lGcjoxAUE0p8nNcscb2GHQi7+Cs2J4aRZjhjLcuXrkfAD+xPVX6LnpEI1Kz7HDSUQf/E1GArJbOoffamvOREr4R33CwhF5uAer6Ry8kyStz8hNP4VCAHU6nF4sTyIfvDehEU1MqAoP34Cd3dLE/Ph6JTfK3MbLd0+pAb28ufELPYb/XTewKEctBLIvrca7Y47gSrzvoY39iFgpUh31MIUnobExEaJwevmZ8ETdLq1E8rG8qFpJoLhtZSNLF/7fEBF8+FA7H/DZUd41RSFpsin/cG4Og6g7lFlrZP1ttUQqcz+vi84t18d8XY3EjqXXE9IieXywk0RymKSRdxiffuImvrzPCF94zwovbPLAzqBoVXbVwHq2Q9M4tvHTUH1d8U2Ep3PaNwUVDeyxcfwWfXm4pTvxrkVon/0qvNl2aWUa/tW311ffwTXt3cSBehxrRtqEqCvf8t+LvbprCvKwCVe15iEy2xCqrA9iaVYGc9oGr0DqaxXhSjfCK9TkY5hUht3OU6T6mkNTfHgkL37NY43QDxuJkYFi/Wywk0bTSKiTNu45/X3YDL200xCfm3cD8W1nwLKpB3GiFpLcM8IkP3LDdThxkK9vLBJg4+2PfHj18brE+fnQlFuaZU3EyTjPfiEJSWSJionXxV3p6YptXhRLZpq0IBfle2ODtjcCmJtQ9Mo4BtVVhcAo9is/buSGovnHwKhtZ7I+Bie1yvBkWhnvVTeK1gULSZr0FmH/PFsdifHE7dYBlig+O3v0Q60LuiRPIh8Uoja62QiRn2uADk/V4U8yvb50c3/A2k6Mdvb3ZuBduDuv0NEQ3Dbwub2/OiT+GdyyPYJG/Px48Mpz0+EJSf1cBMnJvY+HltTicXoKkYfsfFpJoLtMqJM0Tx/0rbuAb667jbxeaY5FdPoLKaxA5WiHp7ev41DoPHLybgJvKviweRvbe2L5DF5952wC/uJGCO3mPbjeInlcsJNEcpikkXcMn57ljl6krVpw0wz8vNcMXDoTBt7oKt69NoI+kBVfxqaXm+PZ+P5gXdKFCtXhAM8/ohaRH+khqykBWvC4+fVUXusXFyK30h43/aXz25mXol2cjvDofKYoMROR74pjlQmyKShAnG/Jyae1pSuMoJPWnwjnoJHTsL+FkYT86e7XeYyGJppV2IckaP9vrjtO29viPRXr429XuOOCbBY/gCfSRNE8PL4gD739b7YjtHgWI4snqc2pEIakiHYmJRviPaydxKisO/mJ7mt1Qg2rtW9VGI7aJWTl38LYY1qS0AvnydrOeEuQUO2PFtYMwyC9DtrJfHiwk6c7Dl43X4SsWOvgfS43N+MaNd/DSXXOczCgefitdbxtKi+7D1HM3/t3UCra1dcotx8PmYUp0oqW9BoXVBUipykVK8jW8Y3P+6QpJYhnklTlC5/Lb0IkrxINhvz8Wkmgu0y4k2WHeUXccsrDF5xdewV+vuY9z4blwvT+BPpLmX8ZfLbyOz669i4P+ZUhsVpsm0fOJhSSaw4YXks7H5cLK1QdrV+niH1eYYH1QGS6cmUAh6b3b+I5+HCxKe9EmDj7Z2fFs8eSFpLhCF+h7rMIndOfjry8vwN8Ifzvoby6L13TfwEs+gXAsb9aangYLSTSbDC8kzbsSDdfibFzbpocXF+rhZcMIHLaZQCHpbQO8oHMPux/UIbGpj9vL59aIQlJLMyqqQ3Hl1ny8eG1gm/o/d42gV6w27EgDw16zfBO7E/MGbllrSERMvAH+9rYD7tXWD95a+fDWtk0xOQit70FX76CeTuQnncUyq614eWQRpSUWruGnMc98F3SyepUHakzPepuHkERDLLv85uD+ZT7+Sm83C0lET2R4IWmZeTzuZqbgwiZd/NtbeuL3HYtj5hMoJC0ywqd2+eBoUjMyW7kvI9LGQhLNYSMKSfEVSCrOgvMtR3zzzWv43FoXvLzZCF8dpbPtn16MgltGGR4IUVJONVIqWpS/nD7Zk2fo2XjyQlJs4V3oex/CF+1vwbY4FaFlGYgaIbmhEbVdarc5jqOQ1BKGmz7nsMrZFGY1vLWNnqURhaSriQhubUB5tB9WrDfCf4rt5Lc3WuHl9Qb4hGpn2764GJiLAM32MqsCUQX1KGrpQat2gZSeMyMLSb3o6m5CRXUmEsozYR96EqttV+BFi/34me1lGBVXIX/Uq5N60dKUheig9fhpQCDsy+pQWeIL+4A9+G5wBlKaOwb7mRujs+3+PnS2BsPAYz9W370J/bKB1+S67x2hiy1OF7DmQSIKxPa2c0qfXtaKnt4kWHqexns2m/HLu7pYHx4p9ilpiIrXw0Krc09XSOrMQ3r2Lcy7vAnHs0qRMmz/wUISzWXDC0nLLdIQ3liNvBBvLFipjxdX2uA7m27hp6N1tr0lAMYPChE0tC+rRExhA0raetHOfRnRMCwk0Rw2spAkdiSdzchPiMf5w8b4+zev45+XXManF46ns22avZ68kJRR7g0L//N40cYegV1dIx45/TiPLyQ1FFrj0D1dLPX1woNOdrZNz9LIQlIyInq70ddSCdebd/DKaiP83dvX8K/vGOCFx3a2TaQxspA0/P3a2iSEZTnjUpgBlt9YgVWxKQhtGL0Pkp6OCtTnXsWbdyxhkBIA58Rb2OV4DLvyWlDaqbnFeOxCUn9/Eqy9D0HH2QiXigc64M7LNcIOlxN438cdbrXT8ITBrmp0VVjjXbsLWOdrCaOsBITI6fb1oL/QEusddJ+qkNReFwv/qPP40k0DWFXUoHzYU+dYSKK5bGQhKQMxPZ3orC3BHX1r/OD96/j7hdfwL0vG09k2EY2FhSSaw1QKSeL1jroKJPu64UeLr+Dv5WWr81hImtuevJBU0JwMvxgTvGpxGrsys5DS1j7wuP+uBjSKEyCb1AeIqm9CreqjoccoJPWKeWhKg13wYSy9dxM7k/JQK17n4//p2VEpJInX5TpZnx6Jw8fN8XnlUn8WkmgiRhSS6mtRU52C26mpyGhvH+gwu6caRaX3sNtkOdbGJCOkfozObHtb0NscjQtOp3Eh+DK2BN7AGy52CGjpR/PQ1QJjF5Ja6jxxzvM0Nng5wbm6Db0NSbjssQ2L7lngbFYh6ofaTqH2MnRm6eJ/bExxOjN7oNNxsV/obc9FaORZvGFxCPN9PBGgenXWYwpJbSWIT7+Nfe778ZJ3LKKbxYm19vssJNGcplJIEq/39XSjNjkY2/bdxL8r+zIWkoieFgtJNIepF5LkJeUN1Rm4stUEX3n7MgtJc14z8gvv4ZrjGvzQLwSOpVWo7swZXyFJDFtY6gcDl234r9tGuJYZh/CqfCQXBMEr/Cy+cusczuYWIbNDe3oaA4Wki/ar8V50Bu4Vi+HksFJZIpLjLmL+nV1YHhYAtxqV4VlIomk1eiFJnph7W93DO8uuspBEEzSys+1MJCfdxFcMT+JUdhz85PawJASecYZ43fQCrhdWIu8xD7KQVxAlRu3DKY8d+KnHbcyLyRnRRlNIWoCVwaGwzn+47U2qyoWv2HZ/cN8C+5IzUNZWgvrk43jJRAdv+rvCouhh2yF1FchtbR8xjafUUY2uAku8dfsstkX7wlVOpzwJCVlW2OK4Fd8yXIc3POxgW6cyrFYhabufHXSzRsxvhh3OeR/C9531cLGoX6UjcxaSaC5TLyQp631/GVyM72L+u3JfxkIS0dNiIYnmsNEKSUJHK3qjfPCGjjELSc+B5ppY+AduwKevvom/droD/fzIcRaS5ElLC2obYmBksxhf0x/oHPZvLi/D501P4VJ5G4q7Rut8caCQdNR8Hj4lhtF01j1gEf5GTwc7U7MQ1zbK8Cwk0bQaq5Ak/puXAovrNiwk0QSNvLWtDw31mfC4Nx9fva7ZLs7H5813Ysu4O7gW28xCS2x0XItvOV/HxSJ5u5r2+wOFJPnUtn/Te/ighAFiH6B3HHtSkpHaJ+alIQv3Pefjywbz8IlH2g6yOIGfR6aOmMbT6+3tRGjIFswz00x3BT519TJuVPnhnNdBbHY2HqUT8oeFpJ8Yyo65R8yv3iq84ukAh4ZesezVhmchieay0QpJA/oy46Gre5uFJKJJwEISzWHdaG1uQm5mBWIz61HW2o0OzXu94kCqpRGZBZWIzqxGutiRNMmDU3EyVVFSjdTcOmRVDdzG9PiDWprperpb0NiUj7iKLETX1qKioxkt7VUoqMxHgXYHij3t4gCkXLQTG7LOzsH1pRc9PS2orMlGckUmosulHCRUlaK8q2+MDll70N5Rh5LqTMQqw2gT81FegMK2jtE7Iu7rRGdHNTIrClEyVjuiSSFPxttRXliFlMwasd61Dj+Q7mhDdWWN2F7KbWY9Ktp7xPaxC80NjcjJrkRMQTPqOsRvRXsYIuUqgGaU1ZSgtLkZTWI71iO2s7KYlFT5cJuYUFU4sQ6uO6uRX5uHlLpKsa0e+X4XOrrqUCDGGz+0zdVWgqK2NrSJtmrz8ojqEqQ3T0W/SX1obipAZpVmWjmIEQfQVd2NKGsoRoHqZxsYTh6r1NTnI011vvOQ0VCLOtVbrgf1NKCsrhR5j2tHNOv0ore3DSX5lUjKrEVOdTtatN9vbxUnqgP7sricBlR39aJLbDMa6xqQnV2FuKIWNHWLcWgPQ0SqWEgiIiIiIiIiIqJxYSGJiIiIiIiIiIjGhYUkIqGhpQVJeXlDqhoaVNsRET3P2js7kZyfP2x7qdHaIftZUh+OiIhoJpDH+Gr7MG3yvEBtWCJ6iIUkIsElPBx/PX/+ED1HR9V2RETPs2RxgP3Jt94atr3UiMnKUh2GiIhoprji7Ky6D9PmFBqqOiwRPcRCEj2Xymtr8cahQ/jxjh0KHQMD5SRI4/jt20PvSTxBIqLnyb2oqGHbQI2lp08jKiND2SYuO3sWi0+eHNpurjh37pH26UVFquMnIiKabHHZ2Y/sh0b60gcf4IU33sCnFy2Ca3i4sv/aaWysvPYPixfDNSICWw0NVYcdKSAhQXU+iJ4HLCTRc+O6u7uyY5B237gBYw8P3PT0VPjFxQ1rG52ZOfSedNDcfGjYE1ZWvIWDiOYEx5CQoW2btmOWlsO2gRrOoaHo7Rt43Pq269ex8erVoXHJA/KR7febmqqOPywlZWg4IiKix5G3Vp+ytlbdp2gcNDN7ZD+0x8REKRJpzBPnpfL1Wz4+aGxtVcYtb2eTr8lzg92i/VfWrh1qN5Yjt26pzoeG3AfWNDY+8lmI5gIWkmjOis3Kgrm395ADYuey+do1hdzwT6QYpO/iMjTsDiMjZeehGW9gYqLqMEREM4XHgwfDtoca8upLzbZNm5Wfn+p4tNkHBeGopaXy19u+weLSSBfu3FEd/wV7e9X5CUtNVR0PERHNTV3d3cqtZGr7BG3y2FteOaS2T9G4evcuOuX4QkKGhpOvabeR3VmozYfUJs4N5B9SZLuT1tbK8Nb+/mhqa1Ntb3r//rBxjySLSUbu7kPzMhqbMaZBNFOxkERzhuwYLyE3d4g8Qfr+1q1D5O0YasNNVFltLV7dv39ovJv19YdNt7K+XnU4IqKpJP9am6i1LdK2/OzZYdtDjaftB0L+Rfe7W7agp7dX9f3RXLxzR3V+5NWiI+e9qKpKdRxERDTzFVRWPrJd1xaZno43jx5V3Sdoe3nfPhRXV6tOQ6oSx9/K+NLSsODIkaHhthgYqLZ/HFlAksP/Ys8e+MbFKeMuq6lRbTsaWRySt4Br5mU0vxTTkHdHaC8XNfJhF51dXarTIppuLCTRnOESFoZPzJs35JKDg/JXcg21YZ6U9njlrR7a09VlR91E9AykiAPM/+/NN4dtjzRkIV17u6WhNp6JeNJCUp+kMj8W3t6PzPuma9dUx0FERDPfBxcvPrJd1/ZPS5Ygp7RUdZ8wktr4NWQn2nJ8n3nnHeSWlY17uLHIYeubm5Vb3eS4D5mbq7Ybi/Z8jKZOTmPNmmHLRc2/vPsu8isqVKdDNN1YSKJZS3aY/frBg/jh9u0KHX19pZM9jYq6OtXhJpvcwWhPV14JpZkniR11E9Fk8oyKGraN0Vhy6pTSv5v29kijpb1ddVxP60kLSaORfUmMnHdDV1fVz/vhpUvKAbjaeIiIaOrZBgSobp+1yVvSRm7XtckraTue4CobOaz2dOSt1k8zvtHI/VtqQYEybnk1rZzWrw4cQOkEr04ai/Y0xiL7F5RXb2l/7pG2GxmpToNosrGQRLOKoZubcomqJO+TvnHvnnJ/suQfH686zHSLESdymnmSZN9MmnmWRSZ21E1E4+EQHDy07dAmD5a1tzEad8PChjrCni6TXUhSk1lcrPp59V1dH1k25+3tWVwiIpoE2aWlj2xjRzppZaW6fdYmrw5SG/+TkleuymnL42vt6cg/pKi1n0yyU245LRNx/rHrxg1lPmQ/gWptp4K8re2OODbQ/twjySuztL+j0RiIfajaNIjGi4UkmvEKKipg5uWlkDsNeeWRdPTWrSn7K/tkkh11a+ZZFr/kzkfzefjYUCLyiIwc2iZok4VnzbZD23g6wp4u01FIGo3sK0MeDGsvG/l0HrVlKVU3NKiOh4joeaPp4FptW6khO6nW3r6qkX/AUBv/ZJL9AmnP12ELC2Xa18T8qbWfDkqn3IP7aNkpt5wvuW9uGnwK3LOUUVQ07DsajTyn0l6uauSDi9SmQSSxkEQzjnzagtxpxIsVSpJPM/jBtm2Kyeow+1mRl8H+av/+oc+jI06CNJ9TYkfdRHOT7AhbdpSp/XvXWHHu3NA2QdvTdoQ9HWQR7J1TpxCbnY3WGVDYzxLHHPLSfrXlKZ/UM3LZ8wpRIpqL5B9hR27vtMkOrt8+dkx1W6khiw1q454O8o8TaeLkVM7rRQeHYfPlN0PuQNCw9vNT5uuXe/fCJzZWmefJvO1tqsgruLSXqxr5By3t9WY08kFEatOguW3KC0kv3HwBX9y4moUkGrfCykr869KleOGNNxTLzpxRbTcXyBNFzeeU2FE30dwk+z6QHWFr/941ZnuBXF7q/9fz50/LbQVP40fbtz+y7GUBTK0tEdFsJju4Hrm90/YPixcrhXe1YWcCeWXP19auVeb1oJmZapuZRj49WnaYLedZXjWl1ma2kQ8u0l5vRnPk1i3V4Wlum4Yrkmzw6vtfZCGJxrTDyGio+j3/8GGEpqQMVbnzxQqlNsxcIDvq1q7oH7O0HPaXAHbUTTS7yI6wtX/DGvLxv7L/NO3fu8ZsuEV3LLOlkCT7Whq57OUfKtS+L3n1kto4iIieNbvAQNXtljYTT89Htnfa5HZ7Mjukngyy/z/N/MtH7nvPoqt7JO2rqC7cuaN8DnkXwmyZfzXywUXa681oZP+Emu9uNEGJiarToNlrem5t2/kqC0k0jFtk5LD7dGXHcJr7cWUncjNt5zZd5Imm9r3J2n1CyXux5T3ZasMR0fSSHWFrb8M05IGw9m9YQ+kI+xn0IzQdZkshSY1bRITq96Xp+2Ik+YQitfEQET0t2W+m2nZnpBNWVqrbLW2T3cH1VJAPydH+XPKqfM38y/6GGmdAf0NPKlnsF+XnkP2iyv5R5edzncN/oJDHAZrvbjSHBvu2ehz51D21adDMMz2FpH1LWEh6zsl7tbWfKHDK2nrYkwPSi4pUh3veyScqaJaRfDqE3CFpliE76iaaeu6RkcO2XRonbt8etg3TmEkdYU+X2VxIGo19UJDq9ysLTCPXBfk4ZrVxEBFpyCs7Rm47RjpnZ6e63RnJeRo6uJ4qspNv+YcY+XnPjvi88vH2asPMZrIfPtnPkPx8slNu+bmVTrnb2lTbz2Xys2t/36ORBUXNb2Is8txSbTo0fWQh6aOPPkKd2L5VVVU9tYaGBhaSaKDDbHlyIXcKknxUp+wAVeO2r6/qcDQ6paPuAweGlqHc2GqWryQPUtSGI6KxKR1h5+QM+z1pvHfu3LBtl4ZTSIjquJ5H8hHRP96xQ7nqaq4/GU1ewTRyXdhrYqK67sgn56iNg4jmFnm1qbylSW07oCGLJyO3HSPJp/yqjX+2yxcn/JrlEJ6WhreOHVM+7/P2+Hlrf3/lc7+8b5/SKbdcHrP5trepctDcfNjvYjTy3FKzXqmR56HyfFRtGjQ5ZCHpL3/5y6TWeXhr23Oqr69viOww+9+XLcMn5s1TzOUOs58V59DQoeUryQq+9negNgzR8077N6IhO8L+5FtvDfs9aTxIT1cdDz3qJzt3KldNqr03l5l7eamuO7JPCLX1TW0cRDRz9Ukqv2UN2c/dNzduVN0OaLyyb5/quOcyzfL54MKFoeXwT0uWIGcW3HY3lWT/qLJTbrk8ZKfcmuWk1pZGJ88tNeuVmn9fvhxFVVVDy3csauOnx5uqQpJ84n9aWho7236ebDcywve3blXMO3RIudxfPu5akn+NUBuGnpzcEWmWryQ76tYsf4kddRMNJzvC1v6NaCw6cUL5vWj/njRme0fY0+l5LSTVNDaqrjvy6qWR69qHly6pjoOIZi55a9LI37K2n+7aBa/oaNXtgIa8clNt3HOVvCJEs3xuenoOLQfZd9Dz2g+qhqZTbrk8ZKfcchm9Oss75X4W5LmlZr1SIx/c9IY4H9Wsh6N5/eBB3tXxhKa8kCQf///drdtZSJrDapuasPfmTaXDbHNvb4W8hPd531FMN3kirFn+0n5TU/jGxam2JXqeyKv1Nl+7pjyeVvs3ouESFqYc2KkNS+PnERnJ27m0yALTyHVN3soh10UpLDVVdTgierZkH5Sa36kkH4E+8res7bafn/Lod7VxPY/84uOVY1DN8skTJ4Zq7agfyfn5yjKy8fd/LvtNmkqy2wL5ACfNejga+YRD+fRwze/d0M1NdXz0qGm4IqlE+QcLSXNXXVOT8nQxnkDMLPKERT4RQ+09oueJLHJvNTRU+idQe59ouhRXVSnrohQhDpLU2hDRsyUfU675nUq8wntiZCFO/znr/4hmr+a2NuWuDs3v3djDQ7UdPYqFJCIiIiIieq519nShp49Xp9LU6OntQVcPO3+muYOFpFmjD72aTsFU35+ogfEp4xz6d68Y/0CngurDjE/f4Lh6Vcc18nNo2qp9roF22vPYp7TtVXb0I6mP41kYmM9h86UY/prG+Od5YFlN9Dsa+D4eTmf4Mn1SA59ntO+iZ3Aa2sMMTFetrfS080OTYezvSJop39PAfKpvY7QNtJNtBgysl0/3GTTrvtp45Hva03j4bzmvw9sOvK89nsct/8d/3umiPZ8T+2xjthUefW8yDJ+XpzMwn9q/Bc13/PTjHxi3HNfkL9OBtiPXKY3JWz5Es5H4TYuT/ML6CjR1tKq8Pxk0v1e139rD3/7Ae/Lf42072QbGr1B9fyJGzudElsHUGJjGyG2geE2l7WSS061ra0RpY/Xga/LzPum29+GwavM9cjlqPvN49iua72j48nloqr+fhwY+48A0xWdQbfM4A+OQn//p51mzDNXGNbAMH743MN3R2g7/fjRtH13WA59dtH1kHDMHC0mzQW87+puCcNX7DoySk5Gh1mYielrQX3IH2z1u44QYX2Z/IxpbonDtzmVYZOchrUNlmHGrQFaRG07ZH8aG+AKkNnc+fG/wc1zxugPjlJTB6Ybj6p092BoeCc+qETvvljjcjXTG6eBgxPV3ors/DfZ+57Hy9hZ8V8XC+2YwKu1HW6/WOJ6F+nj4x14dmq+lEQ9wPzt0xGs22OdtAX1/V3g09aNTdeOurQH1zQ9w2V4XFjkFSB/3d1SO9AJvXHK6AduaDlR25yEwzkGZ7j0x3a7HTldNB5pbMuDstQeLbYd/B0McjbArLhnlov3ABjAPAXE3oXN7q0r7Y5jn4oKAri40DpsOTa86xKda4ZiT2nck2BzAd9294FNbj2bV4adLPaobgnHJZgfOpeQhVqzH6u3qUF0fjovWF3ErvwRZnWVIyb0PXRcz2NX1oKZHbZjHkR1vp8DK6zR2BdyDRUnj8PfbMxCe4oa97u4I6+0VyykHPlHGOHjPFMeya9EtDgiG2naWoqTYExusreBaXS1+K6VIznXEAfEb+b7a8hf2phQgrllres9CVx36i6yw2mW/Mk+v3TPDCfHZhh2gis9WXOSJ9Va34VZTgwrx2ZJyHHHC8TTWJlcgv02r/7yeJvQ3+uKMux3Ms7KQq3l9snSWoEjMy7qheVFpMxHN2chMu43v3b6NO7W1YnwlSMi+Bz23W7Bv6EfdE61XGtnwiryOA54WOJVTO/w98TkKCj2xVkzXXUy3Uk436w6OO50Vy7QShW1af+XuaURfgw9OutmJfXq2WKa1KK8NwDmxbr06Yp3S2PAgAt51WtMjem60oro2BjYeO7EpOgnhdVNRSKpGcaUPzlrvwqaYNDyo13qIQ1+P2K6EwzTAAVdiY5Ha34Ku7jiYuB7BjmB/3Clv1hqP0JYC3zgXHPb2RpT4d5v2e09NXo2VCbfQ27geHoCAFrU249Rdh/YabxxytoF1fj4KxDIorPDGGZvdYhlkILpBexmI7VdTGEz8HXA1Lk4sA63xTLKsDAucvjdiG+jlAoP8qerHSe73axAea4QzQdY4nyMLSeI778+AS8gVnAtyg12V2nCjGRw2+LI4j7DD5fz64e935CMtxwM69vbwaW5GbX8hIlOscNTlMranVaOmUw4/2La7Fi3V3tjvZAPbwkIU9lchv+w+Toh9xc+1l4+WLbEJCBL7umHTnAJNVZHwCD+OH9vtx9GsOmS1qbcbXRNaO2Jw3fkqzDOykNyu1ma8KpFX6onTtvuxMS4b8Y0dD9/rE+e5TSEw9L0Dg4QEpMvptkfB0OkAtoeGwLVyRN9prYnwiL6L4/7+iOnvRmd/OpwDdfGhyrKW3rxnBP0SsTye6thi6rCQNBv0tqG/3g377A1x9MEDJKi1mYhuceCedx0LbutijTK+DnR0lSEmPQpJdeIk7alW1iIkZt/C6itL8KXbhriWJw5+uwbf6xU75zpX7LUzxLGoKDHdWtQ1emHf9SV4yewMdsYnIFm7QCJ+mKa+N7HBzQ0hYh67+mNgIE5yl9qcwZowH9xK0RJpiEP3T+FnHq5wr+9A7TP8wVUWOOOqz178u6Mprid6wbWkFBFp9iNeS0VgXhJiCrKQ09mPHpXxDNeBdnFyFp0mv6OGCZwEFyIu0x47TE7gWnkbSrrSxI7LCAecLWAldgQdT1RIakNDUzxMbJdguacZ9kWN+C5SnHHY6yI2epriSnEjOnrlTlRMN/g03jfbiUVBPriZ9LD9tTAzbHPYjTfDIhDS2DTJB0U0flUIjRYHJo67sVh8R2bJ2t+pB67HWOBDq13Ym5CICO2d6LSrRnmNO7ZfeQs6D9LHOKCpRlmNl2i3DRfT85DU3oyq+lxEZSUirb33CQvO8gQjCnq2G/BTkwNYHhKMKHFwM/TXotZ4eEVZ4B1LS3j29KChPwUO/sfxpuEm/MDNCT5NvWjUTLejAHk5Nnj5sh7My8pQ1J+PyNQbWGv4AV7184JuvNbyT3DGLf89+NXdmziZljWBQvLka28pRmr4BrzkpItVQY6wz0lEWF378L+6iQPZnGwb/EJPFxbigKBYfLaIFGOsvLocn7MygWlxFUo1+4UecRBc64iNlvo4l5g4+ScQHXnIzrbGz8W83KqoEPOi0mYiGpOQEKOLT+jqwlAZXxMq63IQlZ2s/BGm/Ym2qRrJsPU9gvnXdfATj7vKSVzT0PqSh8wsa/xMTNeyshIl/XkIS7qO9669h89a34R5aQ1KuwfbihO4vloHrLPQx4VkMV/iILio4i50dOdhvrs1DkdrrVtS8Am853YNGx9EI2bCB+tEs10zyiqDcPX2QiwIiYFvzVQUksqRU3IHG/XexFduXcaZjBxki2M/5T1ZRGnwwum7RtgbFITofnHc1BWMk+Yf4Ac3j2Fd5APEaZ8EN0fBIcQM79+5Az/x7xbN65NCHq/VIrs4BXElhSjUbKefRFcVWivs8d7Nq7ickYHM/jJkFdtjg95b+PKtKzibmasc/ypt+7rEMriPk85G2BccLE6wtcYzSXp7OpGdaYlDgdexK9RucPvnLThijzhmXe1njyt5ZarDPh1ZnKuAV/AxbPHQx650WUiShf94mHnsgY6rBfRL1YYbzeCw7uKYwHgHXvfxREir1r6nPQOxKbfxmqEh7jQ2oqI/Cz5RenhXfxW+fOc27lQ1oUqzr+iqRFOZPZbduIprWVnI7i9FRoENNl5ZjDfuO+JkjNZ+IukebgUexmJXQ+yKS0TCUxVmHqcC8SnmOGC5HF8x3YCvewTgbkX9BNf1TnR1l4tzoBgk1dQ+/MxPpARp+dZYd3kR/tPyGi5li+M3zbrbK46H6z1w2OE6DoWFIa6/Hs2t/jhsshzfMT0JnZhYJA77/YbjdoAp1jg7I7C/C+39smi8E8usT+CDUK3lLT0wwjGvE/iRmzOcxXbp6c7PpwYLSbPBI4UkWfgpEScdEYgvT0NwwQPcSbwHk8T7QghCa+q0fjCy8lyFlLwwOCttxEYz0R/xyVfx81vahSQxvhQxvtrBYXtb0NacgftyI6sMN8A8JQCBdZ2oG/UHKQtJ1lh/ZSVesdqHxQ+i4FozWI1VLST5YN/11VhgvgNvBnrgSknDw3GNUkjS8XSAablmeoNa0hASfx2vme/E1sxKZLZpVdwnTScam/IRkyGWg2aZpEbjflmFcoWGPJGqqoyCTfARLLBeg39zMMWVuFh45frBaMRrCc1FSCpLxYM8sXOVhSS5A+gqQ1pxJOzleJN8YJKRhazWNnQo025He2exOBkLF9/RYLGvpxktTenwTPaChWZ+BIvUQATVdaFe+Y5GLyRZVLcir8gHToXZSGwcXjFvrUtGSGk6/Kq1vo8hDwtJe2OT4Fc/8v1m5GXZQNf7Al4NSUFZd49yNZksJOnYXcCJArHD0zqJb6yOgXfgNnz65k2YlpWjcti4aPoMFJLOeOrhdOHIq+Q60dqSiVA/HSzw8oBJQeVgwU8eILWI9SgM7imD62CSL0wys5Hb1o5OpU07WtuLxElvGBIq0xGUFzGwjieKdTwxAUktLYNXOMl2BaLdfYRU1qFUs5PuaVdO3t0yEhFaXY1a7UJSqC/0k0Yb38hCkjzhz0Z4ehyS23rRKtfB7moUVcbBafC3Y5Kegtj6hjGKmZpC0k4svqmDeV5W2JdX8/BKI9VC0jm8d30dXnXWw/K0MmRrrsYZpZCkI8ark9WDfO0Dj+5G9Fe5i9/PDqwM9IRd9VQU8ga+y9zCULgNfZd+4rvMEfPSoXyXLc3FiEuzxE6b+fic9WmsDLgPz+LiR6/yUS0kmWHN1Q/wC5sDWCK3G3WDT6eZ9kJSI8prsxCR/gDJDbnwSveHlfL9+8ImI175q+XDImMbmtvyEZroidtKG3+4JjnDMVy7kDQ4voyEh8N2V6GgIvbhejXoTm4y4se8okwWks5ghdF6/OruFSxPrxDLXrO+qBWSbmLNtQ/FMj2Id2KTEVA/uExHLSTNFwe1uQhv1J6mUBcEvfvHsMTdFJdL+dQgmipiO9lZhLj8MNjK30RyAEyz8lDcKU74htr0oLevCdn5Qbir2Q6JdmbD2rWisSUXIUleCKluRuVQUboFPfWJcEhLxIO6OtQr7QoQKvY9idWZ8M8JHZhuohdMk8IR3diG+p4O1NQl4X7UFSw1eRPfdLyOHfKPJXW1aG2rQEpWKFLK4nE3M1AM5wuL5CC4ZN6HWUEBslseXlHT19eD5ppYeJdki2Gbhl5/SBaSnLBJbwVes9yDheHBsK4cbKdaSArBSfPNeNt0G+b7OuJUodajyae8kFSDjMJERBfliZPlTvT0lonj3geIK01BaFE0HJRl6CkEI7CqCuWjnQ+oFpIcB5bBbbkMQmBTOXi11ZQXkjrR2VUAO7et+CDQDSYlmuUpP28j0pIMoeNyDj/3DxPb1n5xzCrf60B1bQbC0gfXQyktASFVNWgdGrYa6QURCMnPQLL21VutBUgUy9ApNwuFYh+XlueCU3c34ZdWe/Ar//u4VVyGpu6YgUKS82UcFdvpu2KZminTCcC94gLkj1rE0xSSjmKp8Ua85m6MdZlVqOoaPO9RLSQZ4EP91XjZ/gTeTchCVNPgMcQohSQd/WXQSawQ5ypa0+3tFPtqXxx3PYilXjYwLte6omyytcpzKV28dXM7dALO4ctmV3ApKwd5I9a11oZ0RIpzrIHvZ2CdDK6uQYXSThaSShGVFok4zWviPLSzRSyPVB9Yar5TwSzZFwE1bagZdZnLQpI9Nl5+D7+6vReLIsPhUDW47qoWkgJw2GQd3jTfjgX+LrhQpHXV2CiFJB13K+WumofTFFozEZV0A6+aboFOWglSWqfi3PbpsJA0GzxSSBI7yCY/7Dfail3e17Dh/kW8bbMTP7Lajm+IA9BVDyLhLQ4ou8SJQU9vA6pq3XHe9RjestiGn9jsxav2x3Ha5xj+2+T8YCGpDnVN/th/fTfOJ6cjtk2cNDanIT7pGt4RG/ufW+0Uw+3E92+tw7dN38ei8CyEN3QMFjhGkoUkB+ww3IWrMTfxss9d6IoTkQZZ+FAtJPlhn5yu/zWsCBIHvlGxSpFE+Qv/RApJYkeQW+iGi7Yf4M2oPMQ3at1SNym60SwPXFKtsc1mA35us0NZJt+xOYNl/u7wrmtAsziZTE27gX1OK/HF64vxSeOt+IG1Jfb5H8fyEa9ZVQTASCnomON2fS86+lpQUXwXV7xP4ZVb20WbnfgvcWJlkJePAmXnUIvqBl/sMdiJCymZiGsX31FTKmISr2KROCh5+B2txUtmH2JxRC4eiGXQMUYh6WZZBcKD1+KHbpY4k1WgtWPsQlbiJWwLtMTmVLUn8T2ukCRUB8Mh0gj/efc+krq6xIn56IWkroYUJMecxpdvWcGsvBJl2uOhaTRWIUnorEV/zlX88q4Vjqdno1JsX7p7GlBZEw4T7xNYYbddWQd/ZHsA371jCv2cbGS2tYvfbbU40b6PHVc3Yrffday/dw5vKdurPfiuyRkcSRUH/a2tYh0ZcaWRZr3qrBHTvYKfW+hia7w40ddqt8L1CpbdfTi+74jxHZUnEYPjG15IKkBUqg12mZ2FflW3OPhtQ21lAOxDzuNXFvL3rIOv3tbF4cQEpHbIAzWtzz5EU0g6gZMeF7A5zA6vBQSjpLN34DZR1UKSPg7ZHsPxaCv8l5sH/KvrB4pYEykkid9kvzjAc/Tcgo0+9rhcoHai8jTEd9ldL77LMFy+dxBLbLYo3+UPbfbj6zbXYZCbjaz2DpRVRsHRfzO+eX0ePnX9A/ynxUXsEvuQZDGOx1+RZI1dN/bCIMECP/ZywY3cwoGrs6a9kJSH8GRLbL2xE3ujrPGh0xG8Lj7r9yy2iHXoOPbm1iJPfP894oS2rT0H8Tm3sNpkC16xkuvIQbx39xh2up/AC0OFJDG+JCvsvnUBBrV9qJLrVYUfrIPPifVqYLss/Y/pcvzE4QL2pNaI9WK0q1BlIekqDtudwFGxvvw/sb6E1DYMFKdUC0liuib7YJBogR+JZXozr2jgCqaJFpLE+wER57DX/RK2p2udsBJNmh709TWgNN8WJ9yP4WXL7fie9V581foGbpdViu2xLGT3oKurFqWVQbjgJk7WbLYqv50fiN/dt+1vwKQgX/w2ZTcH5cgtdYDOlYXQiS9CtOb25vZStGfo4ps3dHFAnIBkyHYlLtC5vAG7g0yw1v00FsjxWW7DN403Y3NSBqKaq5Ge745LTmvx4rV5+Cfj9fi6510Y5GeL7V0E9G9vwCHfS5h/9wi+b3MEr9kdxzrnlfiMkyPMisrFSaCcdh96e5qRFn0EKwMccSJb7RYpWUhyw1axP9ILN8YCPyccSU4buBVWtZAUipPmh3DGSw9rQuzxTlgEKsWJsPJHxyktJMnjzQTcuqeLo153cbdRzEtnCE6Y78aue5exyUdPfC878WPrHWIZbsDKsAC41rRqFQK1qBaSXLH16nboRRhjnlgGR1PSB5fBVBeSmtDeGYlzt3ZjT0QoPOtHnCOIfZ9thA1WK7cb9Ytj5y5xnJsGj5gb2GCzaWg7/pLNBWyKCEBIQ5NoI9ZpsaxUryoq94DufV1819EGXl1FcAo6gkVm7+CzhsvxOZtzeCMqGWXtUcqwq8R51rueRlhqs0ucW4hp3NyEt+7b4EaZnIZa30CaQtJFHHU6jb0PbPDSfW8kNLUO3GWgWkgywz6Lg9CNt8T/eLrhTnE5muW+YiKFJOWPTeW4H3QUO8T8HspW+0Pz5GgttMc5r8t41c0WgVWu+NBsO3ZFRyOgabCQ0ifmpaMKUfE3sNN1F74tvx9x3vQT811YGx4C1+om8bsQ52VtQTgi9pHn4hMRKc5t21qykJKijxXW+x6eN1mux7dMlmJhWCqC6toHf9MjyUKSM7bp78DlBzfwuq8zTqdlol45t1UrJAXisJyu7xW8H3wH70dEKRdpKPv9iRSSxHpbWOIFPZvlWBiZiUhx7j38/WePhaTZQLWQ5I39Ru/gRb1DWPsgComiXXt7NYL838MP7a5gb1I6ysUJf1NLEm7aL8OyAG9Yl8qTD1k08sFBo3fxou6hUQpJxUjKEQfaxmuwNbUR6a0D81FZEQFrt8X4pyvncC5f7NC153HIYCHJ+BCulmXD8P5lGET5wLOpb+xCUnIoDCNsYehjhlv1fQOXaE6okNSAnAI36Nqvxrb0JmQMzvPkqUZEnD7W2e/FV4ISUNc1cKIpL5M95qKDF53vIU4c4MhiTFbmLRz13IMvB8WjfrDdo6+lw3WokNSBjt5oXHPcAp37TjAvb0NjcwJM7ZdiWaA/7Mtk1XtkIakI8VkW4mRoPbamtwzdO1xRHobbrkvw6SvncbGoCPlj3domTmg7cg3xhqUuNogNtFyHBnZQpbjrvRtHg5xhUaG9DDQeV0jqQ191EO5EGOG/XLyQJD6vppC02e48juX3oFlepdQ7oKQ0CI6+67Ats/UJ7oGmyfO4QlINerOv4Jcu1jiRno2q/lbU1kfjuvVCLAkKhnPFwF9nutoqkB+zGz9yuCnaZYmDGFlIcseOq2/hC3rHlGJQimjX2VYu2u3Cj26expa4uGEFovEWkj4vxrctPmHY+H4oxxc/ML4xC0ldKbjjfxyb71zB2aIudPeVwtlrB9Z7W+Ni3mgn01qFpDA3GCZ5wdDl3GBhSrw/WiHJ1QQGBQliWe2Afk6+mBfRdqKFpL5i3PHcgsOh92Bdqf3eZGhBdV0kDG6/if9yd8bNokrl9eamfPh6vY1v2FzH6Ywc5WrBpsY8+Nx/U5xsOcGksGLEeAaNVkiyOAWDmmIYup+FQXwo/FvEfuGZFJKMsEx3Gf5KTw/Xldf6UVLsDSO3D/AJyztwq6lDo9gvpmbZ4aT9ZvwiqgRZLbKYJz6HGHa53rIxCkkpsPcT67mzIS4WP5yPtBRD7LZZj69aWcFb/Fu9P7jBQpKHGQzyYnH99lbo5xUhVVlfRikk3TojplsCQ9fTYpmGI0Au0wkXkirgH3EOJ72HzzPR5GlCV3cITt1aBZ2AADhVN6O8Khj61ovwdmgMfKvltnXgFjM9y7fxRQ8P2JYOdEpcXydO6D3fxv+zNsGV3AJUT6iQdAcbdN/Ev+idwsH0dGQOjs9djO9F65tifIWoUb21beC1y5Zv4XOWpriWJ9uJabSVoC1TD9+6cWlwGnLa4vi0OxfWLmtxMCIQztWD8zPMYCHp6k7o5SXB0N8YBqF34dQofq9jFZJifGAY6wLDe9dgLLYvyonrtBeSgnHC/H18VW8flgeHKIWWnu42hAVvwKv2F7AxNhGlj4xHGK2QdG0X9PJTYOhnBIMwFzENuQymupDUgc6uHPEdrcb375qJdSF/6Bi0W3ZoPKztQMHEK/g4Fjuewbzo9KH3khLE53Xaj5/7BCGvr0eclzyukOSIADG+NrGNHe3Wtp/obcb3nZwQKIaTV0MnxZ/HemUaweIYXhxTacY5ZHBYWUjysYFBZhgM7fZDv7hm4FbB0QpJtrowqMiBodMRGKQmIEKeJ024kFQGz6AjOO5nCcMJ3Y43EX2IjzuDY4GG2JdRgvaOTNx2fh8rfN3FsUnDQGGtR5wX59/EUhtdrAwLQ6zmtQJTLLe7jA/DwxH3SCGpFOkFtthquBJbk6uRNHgFWU11HBzdF+Lfr53BiZwcsQw086FtsJBkuA+Xi9LFuao+DCI84Kac245RSEoIhOEDBxh6GcG0rm+geDehQlIjCkru47Lte9iRWjP8qrcZgoWk2WCMQtL7Pv6wL5d/fe9HX1cjmjMuYZ6VHtZHRyOlrQBlGTfwktEpHM3MQHLXwF98ejorUJ54Ea+aXxilkCRW7I46lIoD/tL2HnTIFV+Mv7sxHekxJ/Fv+pfGUUg6iqtl9UgRB+cm8T44n1rwmEJSCkLKouGd5oJ1DzLQJK/CmUghqT4G9yMv4humB3G6uAUFmttiJktLlPjh38AGVzvYNrehY/BWlo6ONAQlGeL9m7twNKcFeeKAf8KFpOomdBSZY6nVWWyICEdkt7ySrE2cpBeisLlZtJff28hCUhfaOmoHvqOOXq3vKBXJ0SfxT1cvPb6QVC8+R0cwztzZic1iA21XI8Yhv6NGHxy5cxknouS8aC2DIY8rJOUhIOoKdOxPY2F0Pup65E56oJD01rV38VlTHfyPpQ6+c3vAt8w+xH+brsKrDwqR1DTZV5LR+I1VSKpHTX0ALpm/h9e9fGFdUo/ulhzkpBrjy/oncDovDxnKX5TFdqi3HZ2tCTC+tx9Hw73hUvOwkPS+fzhcK9uUv/j09TaLdt44ZiN+0/734SjbTbCQtDIgAq5Vw8d3VBmfFxxrH1NIKrmLw64X8dY9F3h3yadiyL9AlqK4qQ5V2p1RDqNdSArAvYpMJGbZY1FwIjIbxXujFpJuw6q6ClUFltgVGQHPUvGZJlJIUjq4Nsei27vwYVgQvEbtYPwJdRajIN8Ri66dwPncXKQObrd6e8U+pckNB222YUeQP9xqn7aQdA4GNR3IKnLHlVh/GGaWPLNC0sYbm7EstgrJrd3KgXpXXRzCI0/jE1evwaSyEmV14bAPvoYfyismWrtQq/T11omW6kj4BJ3SurVtZCGpHfXNFShtqEGV1mXy7WUeuO51ZpyFJFvYVFWgJt8C2yLE9Mpqxygkyel2IbvIFXqxATDKEst0ooWkchccdD2MBfdsYM0Ot2kqdFSgI98IP795GnuTkpAg9hdd3bKAXYD8llY0yf1HZz7SxfZ0ocFp6Irjl6zB7VBPTy1q65yx69Zm7AwLh1fdxApJmy8vxHshifCtHbiSvqe1CJVJJ/DfN6/gSEYGcsYoJF25/TZe8QuFR2XTwNUEvfXobPHGbvMN2BoaintyP9Vdiw6xT9IRv8ULKclIVD1u0hSSdkEvrwSxJUGwTfLEwYTcxxSSHsC3PAnhGY5YGpqC0jZx0vqMCkkfenrAoqRF+YNpX6/YFmYbYLn9JawIDRPH8yrjGrWQtAd6+WWIKwmEjVgGhxPlMpjqQpJ8MlYb6sRx9CX3I3jdZP3AMajVDnzH1QX2pRXKlaJKWzkvTYG45KqPHQH34dH68CqQ9rYYOIVfxBqbczhf3IO67qcvJK1xuI6TWQ3KLfmyoNVe7IAz987j+84uCJP/1oxzyOCwSiHJBY6VRSjMvY01YTEIr2oYo5CkD5OaFhQWOuBUdDCs8sonVkiSBZNS8Xty3I/FvnfhNBUdbivLPgS6biewxdcZtmLf1t1Vj7QHB/CWzSVsjIoV+zPRTq2QJK9S6qxFYX0VilpaxDIfWUjqEutyvThvKhLntt1Dd0Z0N+egIP4EvmR4aRyFpAO4XFSFxBI/3Er0wsnk/IHlMmohKR6BZUK6Mz4IT0NNh/h8EykkNSYgKFoXXzXegxMF9ch5hv1jjoaFpNlgjEKSTlis2KkOtlM60TbCm1YDfR89aEhDQtQR/Ku5KYyKS8TGZLCdfGpbhR3W21zDbtVC0mA7ZWNVgIBYW5z2vooNHifxnt1GfOryhXEWklpQ1FqBkDQH6EfYwKWyFR21oxWSxHSb68ROJhB6fpdwu7RVnASqF5LmmW7Hz12uYIO3FrfTWHtPXznRjBMnBi2DG4hJU+WBc76mWOYbqGzEHt6WUI30PAccubUKi2NKkNjUPeFCkkVlHUqSTuJlsVx2JSajYGjc2kYWkjSvi42SOEnzi7HGKeU7OoHltpvw/12++PhCUkMPOvqq4RmwRxwgmGBvZiV6OutQnXkJi9xtcCE9B3WPzIf0sJD0mv1RLHAf8V14H8drdy+Kk3wvBNe2DfYfM1BIGuhs2xemyb6wTBlg8uAmDrtsxH9YG8GwQJxQP03njvQUBgpJ26zX4ntOV7DOS/s7PY/3PY/hm7ZGuJ6VjwJZbK6LR3jYXrE9WIsf3T2DFUNtLwtn8CuzZXjN0w5XCwsGb21bg6NJ2Yge+ouKLBpmw9JtCzZ42Q+0G3chyVO0W4Njj4wvC5auA+O7JsY3ViEpPc0YG10vY2FgqPJX5UcvH1ejXUgKhl9jM6pr46DndQQWeUXIrB6tkGQN2/pO9HYUwCbsGkxSHiCySr2Q9OG1pfiGw2Ws8NRa/p6XsMHhAD4MuQ/rkgqUqZ6oPIWWDKSLaX/BxAJ3qqpRPfSePIDOgoXLJqz3doRhkTjhe6pC0nkY1PSisq0MvknWMIy6C8+qevQ9g0KSjuk26GT3oVBzYNaYPKwT7fRiF1zzOYdvOLshXrw/cOuv0JolltVNfFW0M1UtJA22EyeDtY1xsBbb5d3yO3Tdi5+b7x5nIcked+StF2I53g69DJPUGERVjVZIuiim24+qtlL4JFrBMNoV96tG72z7B9Yn8fbIbbbzEaz2t8eVnLwx+uUgenJdLYUojjuIr9++gbNZOUo/NI+0a0pGTKIJvmR2G2519VrHH+I4ojsFNxzWYI2fB8xK8iZUSNK5smh4O3lVkWj3jaF2oxeSrlktxNqYLIQ1DBzLyWOu7p4SON5bh3e87XExrwZdreJEPvUsfuJ8B2YFxQ8LEsNoF5IqkdVSjZhsd1wNuQn7ym40in2VeiEpBmFNjSiuiMAlrxO4VViN/OpnU0jSCQrGXc3VVrK/nAJzvG+ni6WjFX7GLCRVIbulCtHZbrgWaoY7lV1oqpnKQpIkj0VlR+Ix8FSOP91gmmiIRWZ7scjpDD4M8xjobFt+tjJbbHYzw/YHMcgZNo4yRCYaY5/dXryXXIOKztinLiQ9Oqw7dD01w6o9lW9wWKWQ5AbXhja0i324ScA5mGakIKF6tEKSIW7W9aKxvRhuMeK8MN4H/lXqhaQNl9/Gd2zPYYmH1n7CSxzbOR3GqkBnGOUXTcmxem9PG2pzDPCB02XoREYiWUyjr7cDLbUuOCKOgdZ7u8BBHhvKglNzNK55nsQ79gewWMzfFv8bMCtuQvFQsWVkIUnzulzHCxGcYI9z8rzp3il8YL8Bn75ybpyFpDrktVYiMvMuroVZwqmyA621oxWSkvCgqR75ZSHQ9TkLy+IGFNeoF5IW3NyCn97VWt6SPLcV++tNsbGIau4cuKJJdf6eHRaSZoMnLCSF1SUhLGw3/sXaBrdKy1E/ND6xk6xzUwo6mvENLyQ1o6YhA/4JrjBNuA4dNz2sc7uK7V7nsObOZnzqygQKSWIjUFV6H3ejDMXJYRpKq+5i52iFJPEjb6pPRmTMcawOTUVkkRcMVQpJC8x34VV3I2z312aJiwkRyhOUnuyR9o9R6ojDfqZ4MzgSheLfDy+DbVRuqTtv+yFeCc9CbEPHhAtJZhU1yIgWJxmOJjiYkvGw4DfMyEKSOIGtT4dfggtuJhhik6v8jq6J7+gsVtvrjLOQ1K/cT12YbYzd9w3EMo9Abms+gvw24J2QAFiWjnb/88NC0jyHU1jsOfAd6HhdwmKLt/CvVz/ANz3soFdcpTXMQCFJrY+kjpYsJKZcwo+ursK2hHREjtkZLU2dgULSDpv1+JGLEbb6DXyvHzjq4HvGS/APxgfxVnI20lsHOlhsro6GT9BWfNJoF+Z76GHTsN/jgJOJUfCuLkR5rTd2XN2Oi+m5Wk+vkEVQeTvZdqz1uo2zuVkTKCTJApEcnywQDR+f0/1tyvjOifGNVUiKTdTDGrcreDcsGvLWpicqJLWI9betHBnx+7AnPByu2UFiWzdKIUn83uR2oyBTH5cjXaCfHIUklULSKv1l+LaTIVZ7ay9LE+EOXCprHz6ZazI1piA58Rr+5rYDXKprtYoccpmKkybPLVjjZaPc8jcphSTxGcqLnGATZYq90cmor3XEuhlWSIrPt8cF7zP4loevciIx1CegZnyi3dD4hhWS5IlKFNwS7HAp8hqW2VwS20YDbPc4iFdv7R1/IWnwqqH89CtiPO4wSnmAuLEKSXKZFjrCWpww7I9JQkOtA9aoFJJ+bHcOS+9rr1uSLSzzxeea7Ct5iQa1N+chPXIbvmZ3C5eV28lU2tXHISLOAJ+0doZ3Q+PgQxOkTnT35MPGdS3e93GCQUHGNBaSFmFnUvHDYYXe3i7kpl7AKvcb2Bsbh6y6RHh5r8VrodHwrB7xqP4hIwpJ4rdWWxkMr2hdfBiWhaxydxwbrZDU2o/WZrHvjN2PLeKY3zfPD7fnQiFJWQZBuB+th9Xi+Dm73A1HprSQNFI7urqz4RlhiVNex/CG83m86euDtLYOdOabYuW9W9gcmzSi385axKea46jjbsyPKUJZx2CH2c+ykCTWzZ6eVuSknMGpCG9YpocjeNRCktj3iOPvkjxL3Hxgg5PimKq0zB7vqhSSvn9HF+95ae8njAU72BaXIH9K9hWd6OzME7+l7fjxrX34pbsJLiR44EaCm2CE92+vxi9sr2JXShmaZL9k4neSmu0Bk1Aj5Y/ob99ahJfv2+HIA01n5SMLSS3iXDcLgWJ8ZmJ8W931sNZVnNt6n8cGh034h6vnx19IEp+/ptwP7tFXsT4iAwUVLtg/WiFJnJe2NGYgJvYwNoQlIqTABzdVCklvmW3Hy27ay1u6hXNxocptiE/2lO2px0LSbPCEhaSI+hRERx7Av966hZslZRj6K7PY4PRXO2KrrT4OqBWSmnIQlW6OhQar8QPrHXgv8gG85P3rzdkoStLFv+vrTqiQ1N+Ri5hMV2xwNoZfgT3W2oxeSJI7nuoKL6x3vAE7ceJx7P54+0iaYhWuOOVniiUBIcpG5uEVSbXIFBuXk1YfYkFUAeKbOidcSDIXJ4f58UfwyzviICIpVTmpHTZtxYhCUlM2ItNMle/o++I7WvlAnNQr31Em8hJ18ZlruuMuJPW3RuO2/w1sdzfD7fIInLq9CkcTUxGqdeA0nPqtbbKPrpioQ3j39iGsC7kP9/p6sbHXnKCPXkiSTwipqvfEbn1xsBeZDH9NAYGmmfqtbYX5rrh6bx9+anUFl0uKxQGw7MRdHNjWxiEo7BA+ZX4bNhVVqB02Lm3y1raBzrZPpeQgbqj/MnkFUT5sPbZivZcNdPNzJ1BIui/aDY5v6K9MD8e3zssWegW5YxaSklMMsN71CpYERyiFgictJMknXPY3BoptlTmMoi2hHzZ2Iam/JRa3wm1xMsAMTmk2+OW4+kiaYs3pSE2+js+YW8GxqkbrSgC5TPNg7bYZa73tcbWgadIKSf3tmQhMEQdmbiYILXHAexYzq5CUXOgEPZ+z+KaLpzJPQ7cXtGUjI90C/yPamasVklofwMT3NF6/sQE/d7mIzalVKGwT2/xKX5j56U64kNTfEg3TMBucCTTHHbEMxyokyVsa/JOdxbZcLFNxor3cfLx9JBFNrc7mAuRF78F/W5viYk4eylXa9DcmIkqc4P3rLTvcq2/QurKnHd09mTB3WoNVvq64UZz9TAtJ/X09YpsZiqse+tjvbwOLfG+cuLUKRzJKkTi0fxvp0UKSfIJdRr4HPrA3gke2HbY5jV5IkrcAt9f6YrebKSzirXBB7D/mQiFJLoO0PHd8KI5/7+XYYavjFBWSxPz2tJUhqbIMxe0qHSq3xcAxVA8rbPSgX9GB+oLbWOtujq3R8SPuEqhEdLIJDt7ZgyUJFSjvmAFXJMl1U7lCJwLXAq2gG2qBW3FjF5L625LhFueAfeIcyzffHm8bj6ePpCnWW4OmendsNlmHH5pvxncHOzgfIn5jXzI7iJ/e91ZuHx14KvCAhvpMBITuwlt3tuDrxhuwyMcJNjXVwwtJTfni/NQSi/VX44dW27E8PAzuleL4rTUf1am6ePG67oQKSbJ7gsQcN6xxNIZXnj022Y9eSJK3vzZW+2DrXRNYJVnjlM94+0ia+VhImg2esJCU0JKD4mQ9fM7gEs7k5SFH84jq7kb05Bpiwe3BdiMLSSVhcH1wHV9w9EB0e8fQ07z6mrOQn3BJ6SPp7EQKSeL1yopIuHovw84IS8wzG6OQJNq2t1Ui0H8FToRewWJ7E6yfCYWkphDc9DHBRnc3BIrlqOn8rq9PFmrMsNl4HbamNyNT7PAnWki6Xd2gdHo9z/ISNkTL5aIZ92AngMr3NqKQVBwCp0gjvOjsifhO+VQ0OYz4jpoykB1/CZ+5dgkXC8dZSBIn5rIj8bN3dbAm0AY/v3oFN4uKRrnFThq7j6TY6MNYcWs7XvFwR5CY94HHqI5dSKqs88BO/cXYEikfYa39Hk2f0ftIKisNhJnrUnxK7wJ0i4uRL99rSkdGvB4+feUS9JTXBrcvklhvZSeWPeK1PqWQNNBH0ubIFPH9ytdku1axjkdC124TdHzcYVUpC0SD7R6kIVCrkNSbfRk/N3+0j6TNkaminfb4InDJbqMYnwesxfjG7COpwA677urijfv3ESY+jyzy9In57lFofZZhVApJg+9FRe6FXtBJrHAzx5KxCklCRtoNmPrvwBp/K/xMbwYUksQBUa5yddQlmIl5KRz67luUZXrBZgN0fD1hW/m0fSRpFZJEu9JiXzj6fCB+93Z47cbMKiQVV/nBwl8PX7O6jXu9vYMntWJda0hEXPSl0ftIyrfGFi9zrIyIFe8Njlv+9bTCBzd9LymFJC/x2rgLSUJaqjgBCNiF1b5W+KmY7q3RCkmirew03MH3Q+hE2uNXxtfEvpWFJJoB2kvRkamHl0wuYX9qKtKV18XvSTnOEb8Puc1pz0ZKujVeFccgt6urUTK0HWpCZ1cwTlqswpZA2Zn1QB9JW64sxOa4QkRpFYha0y9NfSFJzLcsKPiFncJJ9z34wPs2XtbXh21trXqBTKFSSBKv19el4r7XQuwPM8GblmMUkkTbnp52hIdswrng81jqbIqVc6GQJNrV1SbD02sR9oWbimVwfWoKSW3FaEzXw38bX8LhDHHsMnIf35cFn2g9bLY8jL25XaiplrfZyXkJQpRW276+zKF2+/J6UNOVAPPBYtC1Eq12Ze645Hlp+gpJg+/JzsCvBx7AB16W+NVYhSTRNj/PETZ+67Ex1BYvG1zB1WddSGotQHXKJfw/Iz2cyM4ecUuhIJbLRc+j+Kad/Bx9aOqR/ckOHK8NHAPKfjrL4Bl4GDoe4rvLzBleSCp5IL47Q/yLvStCW1oHfzdi2JY8VCRfwovXL+G4mO64C0niddlRt4f3O9gTbo75FoY4OFohSbTt7GxASOBqnA7RxTsON7GahaRRsZA02Z60kNTbhIa6cJyxWYWfed+FsfIknkY0yr+kWK3CV68eGb2QFHoZnzWzgGtb28CVBu05iEs1wdIby/FJve3YmZqBhKH7ULWpF5K6u8tQXG6HveZr8NUrx7BpjEJSb6/4gTffx1XX3fjxtb14bSYUknpLECA2QOsdjuPlmAw0dMudbT8KCxyhe383vnXHDv7NHcoGesKFpMFOr8/KTq/FTsFW7Ki7ZYdwaZexJjIAliXyFjGVQlLIZXzBwhIeHR0Dty2Kg7CYlBt458YK/K3eDuxOz0ZSx3gKSd0oEzuUa+5r8M83N+Hvne7Du7puWLV/uLELSW2t4bjlexyvWZzAr8SyahEb+7EKSa0NyYiIPoEXbxnDtKgM5fKpJFrjo+kyeiGpq6sYWUW38cGV5XjJ8x4s5dN0ehtQVRWEY5bv4YfOVspTbZRtRVcD+outsdZVD3vjYxDZ9rCQ9N/iAOFQSrqyo25tLUVk+Ab8wlYXR5JSkNvdjJr6CFy59Rb+x9MdpsXyYKsdjY2JcLj7Hr5mcPyRQtLXjPVwWGyLHo5vvTK+o8r4HlNIaosV6+lJrHO6jqtie9ItPm9l7m0ci3LDiazioc8+3OiFpNbWENgEHMcbBtvwDUtL3BujkNTRkYyghKtYcX0d/kH3EgyedSGprxGV1SE4a7EMP/K9D9vyGuX11pZiRIStxU9t9HA8JQ153ZNbSOrqKkRWoXxC6Eq8ePkk9sykQpLYZ8WkWmGzzTb8V2giUprFflgcTCZkyPldNfpT22Qh6e4VLPQPGOgAVGp+gNv+x/BTw9ViO3cZJmJdqFbdzqkXkjraE+EfdxnLDNfj78V0jccoJHV1FYgTgVvQMVqJL10+hX0sJNFM0NeArlYf7LXYiK0hIfAQx60drSXIS7qAReHh8KysE23qUVzmixMWK/A9f3+4ytfEsE2N2QgKWYPvWl3FhYxsFHY3orTSD+fN38bXvPzgVF4v2rWiuiYSlg7L8MVrp6e4kCR1ozDDFMfvrsZnzHbh39yClMevD/zhTI16IamnpwayI/ETNpvwrauHsHKMQlJfXzdaWvxh6nUIL+vvxA/nSCFJLoPqWiccs96Ib149jPen5IqkFrQ3x0HPYSNedjTG0bQsVGm9X1t0B2fdjuFnd27DtbMXLd35uBtwCsvFtvzD5LyhdpkZRtjndgi/EsdBsaJdR18xPAKPYKnjBbwbL9vJYlINwh+cx0qz7dNeSJKdgXs8uIDFhpvwWUNDWI1RSOrszEZ8lgnWGX2Iz+qdxclnXEiqr03Cfd8P8DkXV9iXVT16DtJdhKC469jmeBgrE4vFvtYBez0tcUgcFyodcPeJdbIpAOdcjmOjjzPsamseLSRF6OEzN27Coalp4C4dcXyQkmmOFSbL8PeXt2FLYgpiVI+91AtJ3d2VKK+6g0OW6/H1K+KceoxCUl9fh/j9+uC6xz787Npu/IKFpFGxkDTZnrSQJHYIXd01yMp3xQmv81jjegbrva5gk9clnHTfi68anVEvJNVXIiXLFTvsN+HN+5fwgRhm/T0D7PQzxqmYq5invxI60YkIUj0YVS8k9fd3oK0tC15em/E9o+NYN0YhaWBHVoPIyLNYZr4PP58JhSQx/aqaOLjEmOBDhyNYd19PWZZLXS9ilY+1OKEqQY2sjIu2Ey8kyU6va5AuTlDOe1/CUrHjWitO5pdbn8C25HgEiYOTRwpJ9RVIyrwrvqPNWHBfd+g72uVvjJPRV/DG1fewJSYFIU3jKSSJ/9aF427oIXz9+iq8HFUoDohk3ygjl4HG2IUk2cFdYY6D2CnvxT9an8eqeHEA0RyrFJLeNVqD7zhdwRo5v4NWi2W40vEy9mRmIbmtfYwCFk2t0QtJsqDT1pKOqMD9+I71fvxYHLyYF5eJA8xKZOY64dDdI3jv7gm8L79Tz0tY73AQq4I9YaV0DP2wkPTmrSN43fUylsjvXUxn/p2zOJIYjYiGRrEz7RbjK0NG7k1scDiBpU5nxfqhj62+RtAPO4dfmlzC4aFC0kBn26vdrmKDj+yf6wpWDY0vBpHK+B5TSOquR0GBK0z9L2LJYOfi79mfxqYH/rhTJ7alw5aNxuiFJPlku5Tkm9hlvQP/+ZhCkjxJKSryhIHjRvyN3iVce9aFJGXZl4tl74gDHqexxk0u+4FlOk8s06OJsXjQ2CSW6eQWkjSFQnf3Vfia4SnsmEmFpP5O1DdmIDDJEh/cOYS198R67XUZuzxPY4vDgdELSQ25cA67hnXOe/G2/D1I7tdxOMIY272O4W2zgzhU1I/SwQPR4dQLSfKKjMICd1xx2KTM3/UxCklymTY0xMPN7UN82eA0drOQRDNCF3p7y5GUZITD4iR5uas4DvC4hOU24nefKY5plL73utHWXoLkLHvscjuJNe7nlN/Ph/f0sMDhAk6mJCKuqQUdSrsCJGUZ433bY1hxV7YzwA7f67gSehY/un4JZyZUSOpGQ30SfL1X4XtifPOD/eFQVvCYQpI4aa+WVxnuxrdMd2JBfDWK2gf+wKhOvZAkl0tPTwkCAvbiZZMjeHeMQtJAkaIWcXHXsN5yN16aI4UkuQy6u4vh7y9Orm8cwbKpKCSJzyWfQppbGAajgAvY6H4U72m2z8JK92vYEewKqwLxvYvl3C2Oc0srwnArzBCrnI4PtVty9wI2BbnArrQCzaJdr9LOCwYBF8W5l6bdDZwOFudhYp19WykG9aFNtEtP0scelx34pospdqRmo7ozetILSUq/rdl3cNpOB/9gaIjbYxSSlOJrdThs767BZ6+dxbFnWUjqEsd+Oc7YYrkZqxKzENv88El5D3WgKM8ZBh7i/PWOKwIqEsRyF+cYdw9gkbLcdbHebRc+8HaEUVaxOP8c0UdSfbU4Xr2HXXYb8LbnxYHjVXHetMPXGGfi9bHA8ANsjoyGrzhWe3Ta6oUkeft/hzje8fXdjh8bH8P7YxSSBq6YqkV0tDivttiLH7KQNCoWkiabvPdVuZ81BJ5iI1cifvxtHRlwCzWHQ14R0jU7GfkIwppQmEQHwFZpJ1+XK24jUjLdcCPUGDsDzHEoxBm+uX44H6lp14rW9kwxPhf4io2jLP40NeUjJtkYB4PkMJIj9JMfiJOxdNxVplv8cLrD1KO0Kl4cSHsiqKETdVp/de3tbkVtkRsMIr1hN3K6ZQPT1R5XY2UonOLvQT8lBTliw9nTX4SQBEc4pMUj4pkcCLejujYZXg+MsV9ZJkLYPZjk5Ct9imj6WKmqjIJnmgtOZ4uDFeVqHLXXKpCcGwr3xEhEi42MvBpCXvUVnuGGc8q4zQRf+NXVDfY904KWtky4hNyFX1kliuV31JiLKPEd7Q/UfEdOMEiJQmJbGpxDzOCQX4rM1joUV8bBOfw+ghq7UN9TgaQcOd0HD6crx9+ahMBYA7whDmTOl7Y98l0MJzZ8HSUIjzWDa5GYxtBGUktLDhKyXbEz+DZ2puQguyVfTNdb7MA186rNBscjI5HU3f3wyUj0DDSLg6xA+KQFwFscbPQMKyQJ8mmP1UEweGCJnTFBsJFXJSkHnQ1ITHeCobJ9kW4KDnCpqBnsGPphIUnHywrbg+0H2gWJ8UTFigOVFqVAMTAdWcAsQECcPS4q47LAsXA3BIp12OxBCHyKi8VBXjMaW9LhHOQE/4II2Ca64OzQ+OK0xjfYLlC0U+alFgXlsbgb6YPg5t6Bg6nOEqQX+kJXDL9Lmd49OIl91vDONbWJg2flSZb34ZWXg8wRxYCW2gQEpLjjVFQUUnvlXyHLEJ8VDI/kGKVQrt0PU0dzAdKy7mJPgD+CxcFenTjAKCgPg0OE2MZV9qJ2zN/gVBj4LhPSxLY+RC4LuUzF71cs06SW1qHvqKO9BhlpJjiXlojw0QpuYllXV8dAPyAAD8Rnq++vQX5ZDFwe+CK4pQ9NWlckdnc2oKbACZfCfeBcWjrGrSFPqLsG1VWD89LUpMxLXlmoWM5OcKjqR52mANNehpKiALEeBCBEaSdf7xQHhPkIibqBk8q+0ArXYtzhnhkg/l/TToyvNFp8Nj+EtPQrT1UpLwvB3ZjBZajwxN3SJISXyuk6K9OtHyr8aCtDbEYQPFLiED+ikCg7K07OvKvMX6j2dKP8ESL2xdpPc+mWT98scMSFMB+4lJWJZdqEuqZEOATcgENRNfKmtUhJpNEnjmXT4ZPshNPK78ISe4KCENHSotUfUrc44a9FbLIdrgxth6yxNyYRGW3tDzu9FyeVPb258H5gPbD9D7iF0w88EFQZD5PwIHGSWYFKcexb3RAPh0BTOBTXo1Cz3osTzK7KAJwPD4C70q4fXR1iP5XvgDOhYv8VGw7XinI0NmUjONpU/HbFsGpX4DdHwTFUF4usdHGtuh+1Y15NLealPhmOQXcRUNOkVfgduNKovtQbZtH3YZGdjUJxrNndkyuONT3gU1ikddI6oKlaHE8meuBifDwyxb8n949v8vi0BA9SA3AvPUkc88t5yYFXpBUcsnPEvmCwnewnqjYSVnEBuJWTozyE5pFx9TSjsykOt8X3EVhZqXwfVWIZOAW7IKC2efgy6O1GXYkXTKO8lPEVaY9nkpWW+ME+enDd0gj3E+tI6YhbjltRXB4Jp4jHtatCZmEATJU2NwR72InjbMe0SFgnJCBLtJHdYTRVRYpjb7FPDXPAoYx8sY/PR2SKKxzEuVWwdvGiMQX+4jhMV2vYh9OSBr6jyBR/eGYkI3nE9rytIRMx6a44EBKCaPH9NYn5yyiMhGtsiNJpc7vWsV1XuzifyHPCiRBfeFZVoUocA1TUxsIh+BYcSptQonrnyRToqkBhWTiuh7iJ855W1IzyW2pryEC0+GwHQ0OVz5Ze7APbEd/lDXFOlqKsp23o6MrGPXEM6Su+swJxTNXSXIz4FGMcHTq3dcBlcR6W0pUFl3BLOORqhh2pQRzHJsIpxB2BI+avt6dDrLv3YPzAC1Z5eSiW0+0cnG7JwHS1x9VUFQHXhHu4kpiIbHHc1d1fjPDku3BIiUGoahFrZmMhiYjQ3RgNnxhzLLZ3RnBn14idJNHT0CokPUh72Ik2ERHRLNVVFwS7MHOscvdSrqB59MoRIqK5jYUkouea7BRZdjzsApsHRvggqWKwTyO1tkRPgoUkIiKaC/qgPEyipxsl2ZYwenAbO5U+b9TaEhHNbSwkET2velvR3xiAi57H8Ir1OXwYEojo9u6Ht7sRTQoWkoiIaA7orkNnrScOOe/Dz2x0sS36ARI7BvrCJCJ63rCQRPS86hMHP51FiMmPgHNmAgIrqpVOG7X7cSF6eh1o6yhGdHogoqobUDGivwciIqJZobcDPe35CMsOhWNWCiJr6ti3IxE9t6aqkPTBDhaSiIiIiIiIiIjmlKkqJL00fx1iWEgiIiIiIiIiIpo7pqyQ9NJiuLGQREREREREREQ0d7CQRERERERERERE48JCEhERERERERERjQv7SCIiIiIiIiIionGZqkLSe9v41DYiIiIiIiIiojllqgpJsnbEQhIRERERERER0RzCQhIREREREREREY0LC0lERERERERERDQuLCQREREREREREdG4sJBERERERERERETjwkISERERERERERGNCwtJREREREREREQ0LiwkERERERERERHRuLCQRERERERERERE48JCEhERERERERERjQsLSURERERERERENC4sJBERERERERER0biwkEREREREREREROPCQhIREREREREREY0LC0lERERERERERDQuLCQREREREREREdG4sJBERERERERERETjwkISERERERERERGNCwtJREREREREREQ0LiwkERERERERERHRuLCQRERERERERERE48JCEhERERERERERjQsLSURERERERERENC4sJBERERERERER0biwkEREREREREREROPCQhIREREREREREY0LC0lERERERERERDQuLCQREREREREREdG4sJBERERERERERETjwkISERERERERERGNCwtJREREREREREQ0LiwkERERERERERHRuLCQRERERERERERE48JCEhERERERERERjQsLSURERERERERENC4sJBERERERERER0biwkEREREREREREROPCQhIREREREREREY0LC0lERERERERERDQu01ZI+t3vfqdMjIiIiIiIiIiIZqc//OEP01NIkhMhIiIiIiIiIqLZb8oLSb/5zW+UiRARERERERER0ez0+9//fnoKSZM5ASIiIiIiIiIimn7y9jYWkoiIiIiIiIiI6LGmqpD09qodSGQhiYiIiIiIiIho7piqQtKPX/op9PwGC0mrX/3iuCfQ3d09pKenR7UNERERERERERE9nSepwUxVIWnxSy/hA+OIiRWS5IxnZGQgJSVFUVhYqNqOiIiIiIiIiIie3MgaTEFBgWq7kWZMIam1tRU5OTmIj49HXFwc8vPz0dLSotqWiIiIiIiIiIieXF9fHxobG5VikqzDJCUlKcUkWWBSa68xWiFJ1nWsra1HvSgoNjYWXl5equ9NuJDU3NyszKyccU0RSb6m1paIiIiIiIiIiCZHXV0dsrKylHpMQkICZB2no6NDta00WiFJFqUOHToES0tL5UIh7ffkuK9duwZjY+Nhr2sMKyQVFxePWUiSFStZOJIjlVcjZWdnK6+ptSUiIiIiIiIioskli0maK5OksrKyUYtJjysk6ejo4NatWygqKlKubpJFqkuXLimvP76QFC4LSWFY8t3RC0nySiRZ8ZIzmpycjLa2NuXyKrW2REREREREREQ0uXp7e5VikqaQlJiYiMrKStW2oxWSmpqacPbsWWzfvl0pGhkYGKC0tBQHDhxQ/r1z507laiXtYTSGCklG4Xjh9A9ewBe/OHohSVan5GVTckblFUmymCQnrtaWiIiIiIiIiIgmlywayT6SNIWkmpqaUZ/iNlohSRaj5FVJsoAkC0c7duzAwYMHsXXrVuXfzs7Oo/aFPayQ9IPTYdi+5LujFpKk9vZ25bIpzQxnZmYqlTC1tkRERERERERENDlkESctLU2px8grkWQRqaurS7WtNFohSUPeeWZhYaEUjzQ8PDxGvcJJkvNw+PBhpKamDvSRJP8xViFJkvfeySuTNLe5yb6SWEwiIiIiIiIiIpp88goiWdzRFJFkEaeiomLUK5E0HldIkmRNRxaTdu3apVyJNFYRSdIUkuS8KE9tG08hSZK3ucnKlezdW5IjUmtHRERERERERERPThaMtGsw8k4xtXYjjaeQJBUWFip9Io3ngWpPXEgiIiIiIiIiIqKZa7yFpInQFJLS09Pxguyhm4UkIiIiIiIiIqLZbyoLSRkZGXhBXhrFQhIRERERERER0ew3lYWkrKwsvKD5BwtJRERERERERESz21QWkmQn3S/InrlZSCIiIiIiIiIimv2mspCUm5uLF6qrq5V/9PX1qTYmIiIiIiIiIqIn8+tf/1r19akiC0l//vOfIes9FRUVkyIpKUmpHcmnyL1QX1+v/GMyrH71i/jiq6tV3yMuHyIiIppe69atU319Ouzbtw+HDh3CgQMHHku2k+0XLFig/HektxYuUZ0GEc1M8jf97fd2q7436faswmsvvYTFW1Tem3J7sOq1l/DS4i0q741lG5b/VAz3nbex4eDI9/Zj3fzv4KUfL8bmR94jVdO4DmxZLL6311Zhj8p7E6Oy7mxZjJdeeg2r9mi3mwpbsFgsr9dW7VF57/FKSkrw/wOG4WD7RTHFaQAAAABJRU5ErkJggg==)"
      ]
    },
    {
      "cell_type": "markdown",
      "metadata": {
        "id": "56f17M04kXUp"
      },
      "source": [
        "In the above example we followed 2 step approach. First we chunked everything together and then we removed all the words from the chunk that had pos tag VB or DT. So we can see that 'the', 'is' and 'a' were removed from the chunk.\n",
        "\n",
        "To **summarize**, chunking and chinking are methods of filtering text based on pos-tags. This essentially makes use of regular expressions.\n",
        "\n"
      ]
    },
    {
      "cell_type": "markdown",
      "metadata": {
        "id": "5HQCWe1ITiAS"
      },
      "source": [
        "## References\n",
        "* [TfidfVectorizer](https://scikit-learn.org/stable/modules/generated/sklearn.feature_extraction.text.TfidfVectorizer.html)\n",
        "* [NLP Parts Of Speech](https://www.geeksforgeeks.org/nlp-part-of-speech-default-tagging/#:~:text=Whats%20is%20Part%2Dof%2Dspeech,%2C%20verb%2C%20and%20so%20on.)\n",
        "* [List of part-of-speech tags](https://www.ling.upenn.edu/courses/Fall_2003/ling001/penn_treebank_pos.html)\n",
        "* [Regular Expressions](https://www.w3schools.com/python/python_regex.asp)\n",
        "* [Chunking Implementation](https://www.youtube.com/watch?v=imPpT2Qo2sk&t=292s)\n",
        "* [Chinking Implementation](https://www.youtube.com/watch?v=EymPQgCtcAE)"
      ]
    }
  ]
}